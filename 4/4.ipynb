{
 "cells": [
  {
   "cell_type": "markdown",
   "metadata": {},
   "source": [
    "- обучить сверточную нейронную сеть в стиле AlexNet (с падением размера ядра свертки и последовательностью блоков свертка-пулинг  (conv-pool)-(conv-pool)-...) на датасете fashion-mnist или cifar10\n",
    "- оценить рост точности при увеличении ширины сети (больше ядер)\n",
    "- оценить рост точности при увеличении глубины сети (больше слоев)\n",
    "- (опциционально)сравнить с точностью полносвязной сети для этой выборки"
   ]
  },
  {
   "cell_type": "code",
   "execution_count": 22,
   "metadata": {},
   "outputs": [],
   "source": [
    "from tensorflow.keras.datasets import fashion_mnist\n",
    "from tensorflow.keras.utils import to_categorical\n",
    "from tensorflow.keras import models, layers\n",
    "from tensorflow import keras\n",
    "from tensorflow.keras.models import Model \n",
    "\n",
    "# загрузка тренировочных и тестовых данных\n",
    "(x_train, y_train), (x_test, y_test) = fashion_mnist.load_data()\n",
    "\n",
    "# конвертация чисел из uint8 в float32\n",
    "x_train = x_train.astype('float32')\n",
    "x_test = x_test.astype('float32')\n",
    "\n",
    "# нормализация данных [0, 1]\n",
    "x_train /= 255 \n",
    "x_test /= 255 \n",
    "\n",
    "# трансформация лейблов в one-hot encoding\n",
    "y_train = to_categorical(y_train, 10) \n",
    "y_test = to_categorical(y_test, 10) \n",
    "\n",
    "# изменение размерности массива в 4D массив\n",
    "x_train = x_train.reshape(x_train.shape[0], 28,28,1)\n",
    "x_test = x_test.reshape(x_test.shape[0], 28,28,1)"
   ]
  },
  {
   "cell_type": "code",
   "execution_count": 4,
   "metadata": {},
   "outputs": [
    {
     "name": "stdout",
     "output_type": "stream",
     "text": [
      "Epoch 1/3\n",
      "469/469 [==============================] - 37s 79ms/step - loss: 0.9207 - accuracy: 0.6818 - val_loss: 0.6980 - val_accuracy: 0.7328\n",
      "Epoch 2/3\n",
      "469/469 [==============================] - 40s 84ms/step - loss: 0.6144 - accuracy: 0.7714 - val_loss: 0.6024 - val_accuracy: 0.7788\n",
      "Epoch 3/3\n",
      "469/469 [==============================] - 38s 81ms/step - loss: 0.5469 - accuracy: 0.7991 - val_loss: 0.5588 - val_accuracy: 0.7940\n",
      "313/313 [==============================] - 2s 6ms/step - loss: 0.5588 - accuracy: 0.7940\n",
      "Test loss 0.5588, accuracy 79.40%\n"
     ]
    }
   ],
   "source": [
    "# инициализация  модели\n",
    "input1= layers.Input(shape=(28,28,1))\n",
    "# первый сверточный слой\n",
    "x1 = layers.Conv2D(6, kernel_size=(5, 5), strides=(1, 1), activation='tanh',  padding=\"same\")(input1)\n",
    "\n",
    "# второй пуллинговый слой\n",
    "x2 = layers.AveragePooling2D(pool_size=(2, 2), strides=(1, 1), padding='valid')(x1)\n",
    "\n",
    "# третий сверточный слой\n",
    "x3 = layers.Conv2D(16, kernel_size=(5, 5), strides=(1, 1), activation='tanh', padding='valid')(x2)\n",
    "\n",
    "# четвертый пуллинговый слой\n",
    "x4 = layers.AveragePooling2D(pool_size=(2, 2), strides=(2, 2), padding='valid')(x3)\n",
    "\n",
    "# пятый  слой\n",
    "x5 = layers.Conv2D(120, kernel_size=(5, 5), strides=(1, 1), activation='tanh', padding='valid')(x4)\n",
    "\n",
    "# сглаживание CNN выхода чтобы можно было его присоединить к полносвязногому слою\n",
    "x6 = layers.Flatten()(x5)\n",
    "\n",
    "# шестой полносвязный слой\n",
    "x7 = layers.Dense(84, activation='tanh')(x6)\n",
    "\n",
    "# выходной слой с функцией активации softmax\n",
    "out_x = layers.Dense(10, activation='softmax')(x7)\n",
    "\n",
    "\n",
    "# Соберем полную модель сети от входа к выходу \n",
    "model1 = Model(inputs = input1, outputs = out_x) \n",
    "# сделаем несколько промежуточных выходов (через них посмотрим , что происходит в сети) \n",
    "model3 = Model(inputs = input1, outputs = x3)\n",
    "model5 = Model(inputs = input1, outputs = x5)\n",
    "# компилияция модели\n",
    "model1.compile(loss=keras.losses.categorical_crossentropy, optimizer='SGD', metrics=[\"accuracy\"])\n",
    "\n",
    "# Обучаем модель\n",
    "hist = model1.fit(x=x_train,y=y_train, epochs=3, batch_size=128, validation_data=(x_test, y_test), verbose=1)\n",
    "\n",
    "test_score = model1.evaluate(x_test, y_test)\n",
    "print(\"Test loss {:.4f}, accuracy {:.2f}%\".format(test_score[0], test_score[1] * 100))"
   ]
  },
  {
   "cell_type": "markdown",
   "metadata": {},
   "source": [
    "### Изменение количества ядер"
   ]
  },
  {
   "cell_type": "code",
   "execution_count": 5,
   "metadata": {},
   "outputs": [],
   "source": [
    "def test_kernel_size(kernel_size):\n",
    "    # инициализация  модели\n",
    "    input1= layers.Input(shape=(28,28,1))\n",
    "    # первый сверточный слой\n",
    "    x1 = layers.Conv2D(6, kernel_size=kernel_size, strides=(1, 1), activation='tanh',  padding=\"same\")(input1)\n",
    "\n",
    "    # второй пуллинговый слой\n",
    "    x2 = layers.AveragePooling2D(pool_size=(2, 2), strides=(1, 1), padding='valid')(x1)\n",
    "\n",
    "    # третий сверточный слой\n",
    "    x3 = layers.Conv2D(16, kernel_size=kernel_size, strides=(1, 1), activation='tanh', padding='valid')(x2)\n",
    "\n",
    "    # четвертый пуллинговый слой\n",
    "    x4 = layers.AveragePooling2D(pool_size=(2, 2), strides=(2, 2), padding='valid')(x3)\n",
    "\n",
    "    # пятый  слой\n",
    "    x5 = layers.Conv2D(120, kernel_size=kernel_size, strides=(1, 1), activation='tanh', padding='valid')(x4)\n",
    "\n",
    "    # сглаживание CNN выхода чтобы можно было его присоединить к полносвязногому слою\n",
    "    x6 = layers.Flatten()(x5)\n",
    "\n",
    "    # шестой полносвязный слой\n",
    "    x7 = layers.Dense(84, activation='tanh')(x6)\n",
    "\n",
    "    # выходной слой с функцией активации softmax\n",
    "    out_x = layers.Dense(10, activation='softmax')(x7)\n",
    "\n",
    "\n",
    "    # Соберем полную модель сети от входа к выходу \n",
    "    model1 = Model(inputs = input1, outputs = out_x) \n",
    "    # сделаем несколько промежуточных выходов (через них посмотрим , что происходит в сети) \n",
    "    model3 = Model(inputs = input1, outputs = x3)\n",
    "    model5 = Model(inputs = input1, outputs = x5)\n",
    "    # компилияция модели\n",
    "    model1.compile(loss=keras.losses.categorical_crossentropy, optimizer='SGD', metrics=[\"accuracy\"])\n",
    "\n",
    "    # Обучаем модель\n",
    "    hist = model1.fit(x=x_train,y=y_train, epochs=3, batch_size=128, validation_data=(x_test, y_test), verbose=1)\n",
    "\n",
    "    test_score = model1.evaluate(x_test, y_test)\n",
    "    print(\"Test loss {:.4f}, accuracy {:.2f}%\".format(test_score[0], test_score[1] * 100))"
   ]
  },
  {
   "cell_type": "code",
   "execution_count": 6,
   "metadata": {},
   "outputs": [
    {
     "name": "stdout",
     "output_type": "stream",
     "text": [
      "Epoch 1/3\n",
      "469/469 [==============================] - 50s 105ms/step - loss: 0.8882 - accuracy: 0.6926 - val_loss: 0.6682 - val_accuracy: 0.7464\n",
      "Epoch 2/3\n",
      "469/469 [==============================] - 49s 104ms/step - loss: 0.5847 - accuracy: 0.7830 - val_loss: 0.5787 - val_accuracy: 0.7891\n",
      "Epoch 3/3\n",
      "469/469 [==============================] - 50s 107ms/step - loss: 0.5169 - accuracy: 0.8132 - val_loss: 0.5191 - val_accuracy: 0.8115\n",
      "313/313 [==============================] - 2s 7ms/step - loss: 0.5191 - accuracy: 0.8115\n",
      "Test loss 0.5191, accuracy 81.15%\n"
     ]
    }
   ],
   "source": [
    "test_kernel_size((8, 8))"
   ]
  },
  {
   "cell_type": "markdown",
   "metadata": {},
   "source": [
    "Вывод: При увеличении ширины метрика улучшилась."
   ]
  },
  {
   "cell_type": "markdown",
   "metadata": {},
   "source": [
    "### Изменение количества слоёв"
   ]
  },
  {
   "cell_type": "code",
   "execution_count": 20,
   "metadata": {},
   "outputs": [],
   "source": [
    "kernel_size = (5, 5)"
   ]
  },
  {
   "cell_type": "code",
   "execution_count": 23,
   "metadata": {},
   "outputs": [
    {
     "name": "stdout",
     "output_type": "stream",
     "text": [
      "Epoch 1/3\n",
      "469/469 [==============================] - 64s 136ms/step - loss: 0.9398 - accuracy: 0.6704 - val_loss: 0.7110 - val_accuracy: 0.7330\n",
      "Epoch 2/3\n",
      "469/469 [==============================] - 77s 164ms/step - loss: 0.6361 - accuracy: 0.7599 - val_loss: 0.6209 - val_accuracy: 0.7673\n",
      "Epoch 3/3\n",
      "469/469 [==============================] - 70s 148ms/step - loss: 0.5711 - accuracy: 0.7855 - val_loss: 0.5715 - val_accuracy: 0.7851\n",
      "313/313 [==============================] - 3s 11ms/step - loss: 0.5715 - accuracy: 0.7851\n",
      "Test loss 0.5715, accuracy 78.51%\n"
     ]
    }
   ],
   "source": [
    "# инициализация  модели\n",
    "input1= layers.Input(shape=(28,28,1))\n",
    "# первый сверточный слой\n",
    "x1 = layers.Conv2D(6, kernel_size=kernel_size, strides=(1, 1), activation='tanh',  padding=\"same\")(input1)\n",
    "\n",
    "# второй пуллинговый слой\n",
    "x2 = layers.AveragePooling2D(pool_size=(2, 2), strides=(1, 1), padding='valid')(x1)\n",
    "\n",
    "# третий сверточный слой\n",
    "x3 = layers.Conv2D(16, kernel_size=kernel_size, strides=(1, 1), activation='tanh', padding='valid')(x2)\n",
    "\n",
    "# дополнительный сверточный слой\n",
    "x4 = layers.Conv2D(16, kernel_size=kernel_size, strides=(1, 1), activation='tanh', padding='valid')(x3)\n",
    "\n",
    "# дополнительный сверточный слой\n",
    "x5 = layers.Conv2D(16, kernel_size=kernel_size, strides=(1, 1), activation='tanh', padding='valid')(x4)\n",
    "\n",
    "# дополнительный сверточный слой\n",
    "x6 = layers.Conv2D(16, kernel_size=kernel_size, strides=(1, 1), activation='tanh', padding='valid')(x5)\n",
    "\n",
    "# четвертый пуллинговый слой\n",
    "x7 = layers.AveragePooling2D(pool_size=(2, 2), strides=(1, 1), padding='valid')(x6)\n",
    "\n",
    "# пятый  слой\n",
    "x8 = layers.Conv2D(120, kernel_size=kernel_size, strides=(1, 1), activation='tanh', padding='valid')(x7)\n",
    "\n",
    "# сглаживание CNN выхода чтобы можно было его присоединить к полносвязногому слою\n",
    "x9 = layers.Flatten()(x8)\n",
    "\n",
    "# шестой полносвязный слой\n",
    "x10 = layers.Dense(84, activation='tanh')(x9)\n",
    "\n",
    "# выходной слой с функцией активации softmax\n",
    "out_x = layers.Dense(10, activation='softmax')(x10)\n",
    "\n",
    "\n",
    "# Соберем полную модель сети от входа к выходу \n",
    "model1 = Model(inputs = input1, outputs = out_x) \n",
    "# сделаем несколько промежуточных выходов (через них посмотрим , что происходит в сети) \n",
    "model3 = Model(inputs = input1, outputs = x3)\n",
    "model5 = Model(inputs = input1, outputs = x5)\n",
    "# компилияция модели\n",
    "model1.compile(loss=keras.losses.categorical_crossentropy, optimizer='SGD', metrics=[\"accuracy\"])\n",
    "\n",
    "# Обучаем модель\n",
    "hist = model1.fit(x=x_train,y=y_train, epochs=3, batch_size=128, validation_data=(x_test, y_test), verbose=1)\n",
    "\n",
    "test_score = model1.evaluate(x_test, y_test)\n",
    "print(\"Test loss {:.4f}, accuracy {:.2f}%\".format(test_score[0], test_score[1] * 100))"
   ]
  },
  {
   "cell_type": "markdown",
   "metadata": {},
   "source": [
    "Вывод: предложенный вариант измененной архитектуры слоя, с увеличенным количеством свёрточных слоев, показал падение метрики."
   ]
  },
  {
   "cell_type": "markdown",
   "metadata": {},
   "source": [
    "### Сравнение с полносвязной сетью"
   ]
  },
  {
   "cell_type": "code",
   "execution_count": 33,
   "metadata": {},
   "outputs": [],
   "source": [
    "from keras.models import Sequential\n",
    "from keras.layers import Dense\n",
    "\n",
    "(train_imagesi,train_labels),(test_imagesi,testn_labels)=fashion_mnist.load_data()\n",
    "\n",
    "# Normalize the images.\n",
    "train_imagesi = (train_imagesi / 127) - 1\n",
    "test_imagesi = (test_imagesi / 127) - 1\n",
    "\n",
    "# Flatten the images.\n",
    "x_train = train_imagesi.reshape((-1, 784))\n",
    "x_test = test_imagesi.reshape((-1, 784))\n",
    "\n",
    "y_t = to_categorical(train_labels)\n",
    "y_tt = to_categorical(testn_labels)"
   ]
  },
  {
   "cell_type": "code",
   "execution_count": 34,
   "metadata": {},
   "outputs": [
    {
     "name": "stdout",
     "output_type": "stream",
     "text": [
      "Epoch 1/3\n",
      "469/469 [==============================] - 1s 2ms/step - loss: 0.4945 - accuracy: 0.8228 - val_loss: 0.4436 - val_accuracy: 0.8350\n",
      "Epoch 2/3\n",
      "469/469 [==============================] - 1s 2ms/step - loss: 0.3712 - accuracy: 0.8658 - val_loss: 0.3971 - val_accuracy: 0.8570\n",
      "Epoch 3/3\n",
      "469/469 [==============================] - 1s 2ms/step - loss: 0.3365 - accuracy: 0.8759 - val_loss: 0.3841 - val_accuracy: 0.8591\n",
      "313/313 [==============================] - 0s 921us/step - loss: 0.3841 - accuracy: 0.8591\n",
      "Test loss 0.3841, accuracy 85.91%\n"
     ]
    }
   ],
   "source": [
    "model1 = Sequential(name='my_model')\n",
    "model1.add(Dense(256, activation='relu', input_shape=(784,)))\n",
    "model1.add(Dense(10, activation='softmax'))\n",
    "\n",
    "model1.compile(\n",
    "  optimizer='adam',\n",
    "  loss=keras.losses.CategoricalCrossentropy(),\n",
    "  metrics=['accuracy'],\n",
    ")\n",
    "\n",
    "# Обучаем модель\n",
    "hist = model1.fit(x=x_train,y=y_t, epochs=3, batch_size=128, validation_data=(x_test, y_tt), verbose=1)\n",
    "\n",
    "test_score = model1.evaluate(x_test, y_tt)\n",
    "print(\"Test loss {:.4f}, accuracy {:.2f}%\".format(test_score[0], test_score[1] * 100))"
   ]
  },
  {
   "cell_type": "markdown",
   "metadata": {},
   "source": [
    "Вывод: предложенные примеры свёрточных сетей показывают меньшие accuracy."
   ]
  },
  {
   "cell_type": "code",
   "execution_count": null,
   "metadata": {},
   "outputs": [],
   "source": []
  }
 ],
 "metadata": {
  "kernelspec": {
   "display_name": "Python 3",
   "language": "python",
   "name": "python3"
  },
  "language_info": {
   "codemirror_mode": {
    "name": "ipython",
    "version": 3
   },
   "file_extension": ".py",
   "mimetype": "text/x-python",
   "name": "python",
   "nbconvert_exporter": "python",
   "pygments_lexer": "ipython3",
   "version": "3.8.5"
  }
 },
 "nbformat": 4,
 "nbformat_minor": 4
}
