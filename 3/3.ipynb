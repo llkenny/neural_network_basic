{
 "cells": [
  {
   "cell_type": "markdown",
   "metadata": {},
   "source": [
    "### 1. Постройте нейронную сеть(берем простую линейную сеть, которую разбирали на уроке: меняем число слоев, число нейронов , типы активации, тип оптимизатора)  на датасет from sklearn.datasets import load_boston.  (boston_housing)"
   ]
  },
  {
   "cell_type": "code",
   "execution_count": 9,
   "metadata": {},
   "outputs": [],
   "source": [
    "from tensorflow.keras.layers import Input, Flatten\n",
    "from tensorflow.keras.models import Model\n",
    "import tensorflow as tf\n",
    "from tensorflow import keras"
   ]
  },
  {
   "cell_type": "code",
   "execution_count": 13,
   "metadata": {},
   "outputs": [],
   "source": [
    "(train_features, train_labels), (test_features, test_labels) = keras.datasets.boston_housing.load_data()"
   ]
  },
  {
   "cell_type": "code",
   "execution_count": 43,
   "metadata": {},
   "outputs": [
    {
     "name": "stdout",
     "output_type": "stream",
     "text": [
      "Epoch 1/3\n",
      "13/13 [==============================] - 0s 2ms/step - loss: 3147.8357 - mae: 51.4851 - mse: 3147.8357\n",
      "Epoch 2/3\n",
      "13/13 [==============================] - 0s 962us/step - loss: 401.6455 - mae: 14.8903 - mse: 401.6455\n",
      "Epoch 3/3\n",
      "13/13 [==============================] - 0s 2ms/step - loss: 233.1230 - mae: 13.3692 - mse: 233.1230\n",
      "4/4 - 0s - loss: 273.7954 - mae: 14.8673 - mse: 273.7954 - 86ms/epoch - 21ms/step\n",
      "\n",
      "Test mae: 14.867324829101562\n",
      "\n",
      "Test mse: 273.7953796386719\n"
     ]
    }
   ],
   "source": [
    "model = keras.Sequential([\n",
    "    keras.layers.Dense(20, activation='relu'),\n",
    "    keras.layers.Dense(1)\n",
    "])\n",
    "\n",
    "model.compile(optimizer='adam',\n",
    "              loss='mse',\n",
    "              metrics=['mae', 'mse'])\n",
    "\n",
    "model.fit(train_features, train_labels, epochs=3)\n",
    "\n",
    "test_loss, test_mae, test_mse = model.evaluate(test_features, test_labels, verbose=2)\n",
    "\n",
    "print('\\nTest mae:', test_mae)\n",
    "print('\\nTest mse:', test_mse)"
   ]
  },
  {
   "cell_type": "markdown",
   "metadata": {},
   "source": [
    "### 2. Измените функцию потерь и метрику для этой задачи. Постройте 10-15 вариантов и сведите результаты их работы в таблицу  Опишите, какого результата вы добились от нейросети? Что помогло вам улучшить ее точность?"
   ]
  },
  {
   "cell_type": "code",
   "execution_count": 48,
   "metadata": {},
   "outputs": [],
   "source": [
    "import pandas as pd\n",
    "df = pd.DataFrame(columns=['optimizer', 'layers', 'epochs', 'mae', 'mse'])"
   ]
  },
  {
   "cell_type": "code",
   "execution_count": 49,
   "metadata": {},
   "outputs": [],
   "source": [
    "df.loc[-1] = ['adam', '2', '3', test_mae, test_mse]\n",
    "df.index = df.index + 1\n",
    "df = df.sort_index()"
   ]
  },
  {
   "cell_type": "code",
   "execution_count": 53,
   "metadata": {},
   "outputs": [
    {
     "data": {
      "text/html": [
       "<div>\n",
       "<style scoped>\n",
       "    .dataframe tbody tr th:only-of-type {\n",
       "        vertical-align: middle;\n",
       "    }\n",
       "\n",
       "    .dataframe tbody tr th {\n",
       "        vertical-align: top;\n",
       "    }\n",
       "\n",
       "    .dataframe thead th {\n",
       "        text-align: right;\n",
       "    }\n",
       "</style>\n",
       "<table border=\"1\" class=\"dataframe\">\n",
       "  <thead>\n",
       "    <tr style=\"text-align: right;\">\n",
       "      <th></th>\n",
       "      <th>optimizer</th>\n",
       "      <th>layers</th>\n",
       "      <th>epochs</th>\n",
       "      <th>mae</th>\n",
       "      <th>mse</th>\n",
       "    </tr>\n",
       "  </thead>\n",
       "  <tbody>\n",
       "    <tr>\n",
       "      <th>0</th>\n",
       "      <td>adam</td>\n",
       "      <td>5</td>\n",
       "      <td>3</td>\n",
       "      <td>12.047400</td>\n",
       "      <td>224.988861</td>\n",
       "    </tr>\n",
       "    <tr>\n",
       "      <th>1</th>\n",
       "      <td>adam</td>\n",
       "      <td>2</td>\n",
       "      <td>3</td>\n",
       "      <td>14.867325</td>\n",
       "      <td>273.795380</td>\n",
       "    </tr>\n",
       "  </tbody>\n",
       "</table>\n",
       "</div>"
      ],
      "text/plain": [
       "  optimizer layers epochs        mae         mse\n",
       "0      adam      5      3  12.047400  224.988861\n",
       "1      adam      2      3  14.867325  273.795380"
      ]
     },
     "execution_count": 53,
     "metadata": {},
     "output_type": "execute_result"
    }
   ],
   "source": [
    "df"
   ]
  },
  {
   "cell_type": "code",
   "execution_count": 51,
   "metadata": {},
   "outputs": [
    {
     "name": "stdout",
     "output_type": "stream",
     "text": [
      "Epoch 1/3\n",
      "13/13 [==============================] - 0s 2ms/step - loss: 3916.6721 - mae: 52.5211 - mse: 3916.6721\n",
      "Epoch 2/3\n",
      "13/13 [==============================] - 0s 1ms/step - loss: 680.0901 - mae: 21.5287 - mse: 680.0901\n",
      "Epoch 3/3\n",
      "13/13 [==============================] - 0s 3ms/step - loss: 286.1076 - mae: 13.1646 - mse: 286.1076\n",
      "4/4 - 0s - loss: 224.9889 - mae: 12.0474 - mse: 224.9889 - 108ms/epoch - 27ms/step\n"
     ]
    }
   ],
   "source": [
    "model = keras.Sequential([\n",
    "    keras.layers.Dense(20, activation='relu'),\n",
    "    keras.layers.Dense(20),\n",
    "    keras.layers.Dense(20),\n",
    "    keras.layers.Dense(20),\n",
    "    keras.layers.Dense(1)\n",
    "])\n",
    "\n",
    "model.compile(optimizer='adam',\n",
    "              loss='mse',\n",
    "              metrics=['mae', 'mse'])\n",
    "\n",
    "model.fit(train_features, train_labels, epochs=3)\n",
    "\n",
    "test_loss, test_mae, test_mse = model.evaluate(test_features, test_labels, verbose=2)"
   ]
  },
  {
   "cell_type": "code",
   "execution_count": 52,
   "metadata": {},
   "outputs": [],
   "source": [
    "df.loc[-1] = ['adam', '5', '3', test_mae, test_mse]\n",
    "df.index = df.index + 1\n",
    "df = df.sort_index()"
   ]
  },
  {
   "cell_type": "code",
   "execution_count": 54,
   "metadata": {},
   "outputs": [
    {
     "name": "stdout",
     "output_type": "stream",
     "text": [
      "Epoch 1/5\n",
      "13/13 [==============================] - 0s 1ms/step - loss: 509.9457 - mae: 18.1696 - mse: 509.9457\n",
      "Epoch 2/5\n",
      "13/13 [==============================] - 0s 2ms/step - loss: 265.0309 - mae: 13.2578 - mse: 265.0309\n",
      "Epoch 3/5\n",
      "13/13 [==============================] - 0s 2ms/step - loss: 134.2087 - mae: 8.9050 - mse: 134.2087\n",
      "Epoch 4/5\n",
      "13/13 [==============================] - 0s 2ms/step - loss: 93.5467 - mae: 7.1967 - mse: 93.5467\n",
      "Epoch 5/5\n",
      "13/13 [==============================] - 0s 2ms/step - loss: 80.4699 - mae: 6.7752 - mse: 80.4699\n",
      "4/4 - 0s - loss: 73.8596 - mae: 6.2278 - mse: 73.8596 - 100ms/epoch - 25ms/step\n"
     ]
    }
   ],
   "source": [
    "model = keras.Sequential([\n",
    "    keras.layers.Dense(20, activation='relu'),\n",
    "    keras.layers.Dense(20),\n",
    "    keras.layers.Dense(20),\n",
    "    keras.layers.Dense(20),\n",
    "    keras.layers.Dense(1)\n",
    "])\n",
    "\n",
    "model.compile(optimizer='adam',\n",
    "              loss='mse',\n",
    "              metrics=['mae', 'mse'])\n",
    "\n",
    "model.fit(train_features, train_labels, epochs=5)\n",
    "\n",
    "test_loss, test_mae, test_mse = model.evaluate(test_features, test_labels, verbose=2)"
   ]
  },
  {
   "cell_type": "code",
   "execution_count": 55,
   "metadata": {},
   "outputs": [],
   "source": [
    "df.loc[-1] = ['adam', '5', '5', test_mae, test_mse]\n",
    "df.index = df.index + 1\n",
    "df = df.sort_index()"
   ]
  },
  {
   "cell_type": "code",
   "execution_count": 57,
   "metadata": {},
   "outputs": [
    {
     "name": "stdout",
     "output_type": "stream",
     "text": [
      "Epoch 1/5\n",
      "13/13 [==============================] - 0s 1ms/step - loss: 4584.5156 - mae: 55.8553 - mse: 4584.5156\n",
      "Epoch 2/5\n",
      "13/13 [==============================] - 0s 2ms/step - loss: 565.3100 - mae: 20.7017 - mse: 565.3100\n",
      "Epoch 3/5\n",
      "13/13 [==============================] - 0s 2ms/step - loss: 242.6719 - mae: 13.0101 - mse: 242.6719\n",
      "Epoch 4/5\n",
      "13/13 [==============================] - 0s 2ms/step - loss: 127.0193 - mae: 8.4863 - mse: 127.0193\n",
      "Epoch 5/5\n",
      "13/13 [==============================] - 0s 2ms/step - loss: 92.1993 - mae: 7.2681 - mse: 92.1993\n",
      "4/4 - 0s - loss: 76.3914 - mae: 5.9318 - mse: 76.3914 - 109ms/epoch - 27ms/step\n"
     ]
    }
   ],
   "source": [
    "model = keras.Sequential([\n",
    "    keras.layers.Dense(20, activation='relu'),\n",
    "    keras.layers.Dense(20),\n",
    "    keras.layers.Dense(20),\n",
    "    keras.layers.Dense(20),\n",
    "    keras.layers.Dense(20),\n",
    "    keras.layers.Dense(20),\n",
    "    keras.layers.Dense(1)\n",
    "])\n",
    "\n",
    "model.compile(optimizer='adam',\n",
    "              loss='mse',\n",
    "              metrics=['mae', 'mse'])\n",
    "\n",
    "model.fit(train_features, train_labels, epochs=5)\n",
    "\n",
    "test_loss, test_mae, test_mse = model.evaluate(test_features, test_labels, verbose=2)"
   ]
  },
  {
   "cell_type": "code",
   "execution_count": 58,
   "metadata": {},
   "outputs": [],
   "source": [
    "df.loc[-1] = ['adam', '7', '5', test_mae, test_mse]\n",
    "df.index = df.index + 1\n",
    "df = df.sort_index()"
   ]
  },
  {
   "cell_type": "code",
   "execution_count": 60,
   "metadata": {},
   "outputs": [
    {
     "name": "stdout",
     "output_type": "stream",
     "text": [
      "Epoch 1/10\n",
      "13/13 [==============================] - 0s 1ms/step - loss: 697.5298 - mae: 20.4928 - mse: 697.5298\n",
      "Epoch 2/10\n",
      "13/13 [==============================] - 0s 2ms/step - loss: 243.4450 - mae: 12.7157 - mse: 243.4450\n",
      "Epoch 3/10\n",
      "13/13 [==============================] - 0s 2ms/step - loss: 126.7076 - mae: 8.3028 - mse: 126.7076\n",
      "Epoch 4/10\n",
      "13/13 [==============================] - 0s 2ms/step - loss: 113.5885 - mae: 8.0838 - mse: 113.5885\n",
      "Epoch 5/10\n",
      "13/13 [==============================] - 0s 2ms/step - loss: 94.7350 - mae: 7.5108 - mse: 94.7350\n",
      "Epoch 6/10\n",
      "13/13 [==============================] - 0s 2ms/step - loss: 82.1134 - mae: 6.8259 - mse: 82.1134\n",
      "Epoch 7/10\n",
      "13/13 [==============================] - 0s 3ms/step - loss: 77.6133 - mae: 6.5231 - mse: 77.6133\n",
      "Epoch 8/10\n",
      "13/13 [==============================] - 0s 3ms/step - loss: 73.1339 - mae: 6.2722 - mse: 73.1339\n",
      "Epoch 9/10\n",
      "13/13 [==============================] - 0s 2ms/step - loss: 70.1520 - mae: 6.2431 - mse: 70.1520\n",
      "Epoch 10/10\n",
      "13/13 [==============================] - 0s 2ms/step - loss: 70.5032 - mae: 6.1315 - mse: 70.5032\n",
      "4/4 - 0s - loss: 69.5423 - mae: 6.1304 - mse: 69.5423 - 113ms/epoch - 28ms/step\n"
     ]
    }
   ],
   "source": [
    "model = keras.Sequential([\n",
    "    keras.layers.Dense(20, activation='relu'),\n",
    "    keras.layers.Dense(20),\n",
    "    keras.layers.Dense(20),\n",
    "    keras.layers.Dense(20),\n",
    "    keras.layers.Dense(20),\n",
    "    keras.layers.Dense(20),\n",
    "    keras.layers.Dense(1)\n",
    "])\n",
    "\n",
    "model.compile(optimizer='adam',\n",
    "              loss='mse',\n",
    "              metrics=['mae', 'mse'])\n",
    "\n",
    "model.fit(train_features, train_labels, epochs=10)\n",
    "\n",
    "test_loss, test_mae, test_mse = model.evaluate(test_features, test_labels, verbose=2)"
   ]
  },
  {
   "cell_type": "code",
   "execution_count": 61,
   "metadata": {},
   "outputs": [],
   "source": [
    "df.loc[-1] = ['adam', '7', '10', test_mae, test_mse]\n",
    "df.index = df.index + 1\n",
    "df = df.sort_index()"
   ]
  },
  {
   "cell_type": "code",
   "execution_count": 62,
   "metadata": {},
   "outputs": [
    {
     "name": "stdout",
     "output_type": "stream",
     "text": [
      "Epoch 1/15\n",
      "13/13 [==============================] - 0s 1ms/step - loss: 27700.7148 - mae: 130.4015 - mse: 27700.7148\n",
      "Epoch 2/15\n",
      "13/13 [==============================] - 0s 2ms/step - loss: 2659.0386 - mae: 45.5910 - mse: 2659.0386\n",
      "Epoch 3/15\n",
      "13/13 [==============================] - 0s 2ms/step - loss: 504.7553 - mae: 17.3412 - mse: 504.7553\n",
      "Epoch 4/15\n",
      "13/13 [==============================] - 0s 3ms/step - loss: 365.4718 - mae: 15.3999 - mse: 365.4718\n",
      "Epoch 5/15\n",
      "13/13 [==============================] - 0s 2ms/step - loss: 163.6331 - mae: 10.0167 - mse: 163.6331\n",
      "Epoch 6/15\n",
      "13/13 [==============================] - 0s 2ms/step - loss: 142.3707 - mae: 9.5974 - mse: 142.3707\n",
      "Epoch 7/15\n",
      "13/13 [==============================] - 0s 2ms/step - loss: 113.0864 - mae: 7.9007 - mse: 113.0864\n",
      "Epoch 8/15\n",
      "13/13 [==============================] - 0s 2ms/step - loss: 98.3730 - mae: 7.3417 - mse: 98.3730\n",
      "Epoch 9/15\n",
      "13/13 [==============================] - 0s 2ms/step - loss: 87.1468 - mae: 6.8744 - mse: 87.1468\n",
      "Epoch 10/15\n",
      "13/13 [==============================] - 0s 2ms/step - loss: 80.4026 - mae: 6.4184 - mse: 80.4026\n",
      "Epoch 11/15\n",
      "13/13 [==============================] - 0s 2ms/step - loss: 73.5741 - mae: 6.0351 - mse: 73.5741\n",
      "Epoch 12/15\n",
      "13/13 [==============================] - 0s 2ms/step - loss: 69.6890 - mae: 5.8987 - mse: 69.6890\n",
      "Epoch 13/15\n",
      "13/13 [==============================] - 0s 2ms/step - loss: 65.5807 - mae: 5.6491 - mse: 65.5807\n",
      "Epoch 14/15\n",
      "13/13 [==============================] - 0s 2ms/step - loss: 62.5166 - mae: 5.4882 - mse: 62.5166\n",
      "Epoch 15/15\n",
      "13/13 [==============================] - 0s 1ms/step - loss: 60.3134 - mae: 5.3756 - mse: 60.3134\n",
      "4/4 - 0s - loss: 61.2793 - mae: 5.5618 - mse: 61.2793 - 116ms/epoch - 29ms/step\n"
     ]
    }
   ],
   "source": [
    "model = keras.Sequential([\n",
    "    keras.layers.Dense(20, activation='relu'),\n",
    "    keras.layers.Dense(20),\n",
    "    keras.layers.Dense(20),\n",
    "    keras.layers.Dense(20),\n",
    "    keras.layers.Dense(20),\n",
    "    keras.layers.Dense(20),\n",
    "    keras.layers.Dense(1)\n",
    "])\n",
    "\n",
    "model.compile(optimizer='adam',\n",
    "              loss='mse',\n",
    "              metrics=['mae', 'mse'])\n",
    "\n",
    "model.fit(train_features, train_labels, epochs=15)\n",
    "\n",
    "test_loss, test_mae, test_mse = model.evaluate(test_features, test_labels, verbose=2)"
   ]
  },
  {
   "cell_type": "code",
   "execution_count": 63,
   "metadata": {},
   "outputs": [],
   "source": [
    "df.loc[-1] = ['adam', '7', '15', test_mae, test_mse]\n",
    "df.index = df.index + 1\n",
    "df = df.sort_index()"
   ]
  },
  {
   "cell_type": "code",
   "execution_count": 64,
   "metadata": {},
   "outputs": [
    {
     "data": {
      "text/html": [
       "<div>\n",
       "<style scoped>\n",
       "    .dataframe tbody tr th:only-of-type {\n",
       "        vertical-align: middle;\n",
       "    }\n",
       "\n",
       "    .dataframe tbody tr th {\n",
       "        vertical-align: top;\n",
       "    }\n",
       "\n",
       "    .dataframe thead th {\n",
       "        text-align: right;\n",
       "    }\n",
       "</style>\n",
       "<table border=\"1\" class=\"dataframe\">\n",
       "  <thead>\n",
       "    <tr style=\"text-align: right;\">\n",
       "      <th></th>\n",
       "      <th>optimizer</th>\n",
       "      <th>layers</th>\n",
       "      <th>epochs</th>\n",
       "      <th>mae</th>\n",
       "      <th>mse</th>\n",
       "    </tr>\n",
       "  </thead>\n",
       "  <tbody>\n",
       "    <tr>\n",
       "      <th>0</th>\n",
       "      <td>adam</td>\n",
       "      <td>7</td>\n",
       "      <td>15</td>\n",
       "      <td>5.561826</td>\n",
       "      <td>61.279259</td>\n",
       "    </tr>\n",
       "    <tr>\n",
       "      <th>1</th>\n",
       "      <td>adam</td>\n",
       "      <td>7</td>\n",
       "      <td>10</td>\n",
       "      <td>6.130436</td>\n",
       "      <td>69.542328</td>\n",
       "    </tr>\n",
       "    <tr>\n",
       "      <th>2</th>\n",
       "      <td>adam</td>\n",
       "      <td>7</td>\n",
       "      <td>5</td>\n",
       "      <td>5.931840</td>\n",
       "      <td>76.391418</td>\n",
       "    </tr>\n",
       "    <tr>\n",
       "      <th>3</th>\n",
       "      <td>adam</td>\n",
       "      <td>5</td>\n",
       "      <td>5</td>\n",
       "      <td>6.227764</td>\n",
       "      <td>73.859612</td>\n",
       "    </tr>\n",
       "    <tr>\n",
       "      <th>4</th>\n",
       "      <td>adam</td>\n",
       "      <td>5</td>\n",
       "      <td>3</td>\n",
       "      <td>12.047400</td>\n",
       "      <td>224.988861</td>\n",
       "    </tr>\n",
       "    <tr>\n",
       "      <th>5</th>\n",
       "      <td>adam</td>\n",
       "      <td>2</td>\n",
       "      <td>3</td>\n",
       "      <td>14.867325</td>\n",
       "      <td>273.795380</td>\n",
       "    </tr>\n",
       "  </tbody>\n",
       "</table>\n",
       "</div>"
      ],
      "text/plain": [
       "  optimizer layers epochs        mae         mse\n",
       "0      adam      7     15   5.561826   61.279259\n",
       "1      adam      7     10   6.130436   69.542328\n",
       "2      adam      7      5   5.931840   76.391418\n",
       "3      adam      5      5   6.227764   73.859612\n",
       "4      adam      5      3  12.047400  224.988861\n",
       "5      adam      2      3  14.867325  273.795380"
      ]
     },
     "execution_count": 64,
     "metadata": {},
     "output_type": "execute_result"
    }
   ],
   "source": [
    "df"
   ]
  },
  {
   "cell_type": "code",
   "execution_count": null,
   "metadata": {},
   "outputs": [],
   "source": []
  }
 ],
 "metadata": {
  "kernelspec": {
   "display_name": "Python 3",
   "language": "python",
   "name": "python3"
  },
  "language_info": {
   "codemirror_mode": {
    "name": "ipython",
    "version": 3
   },
   "file_extension": ".py",
   "mimetype": "text/x-python",
   "name": "python",
   "nbconvert_exporter": "python",
   "pygments_lexer": "ipython3",
   "version": "3.8.5"
  }
 },
 "nbformat": 4,
 "nbformat_minor": 4
}
