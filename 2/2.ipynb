{
 "cells": [
  {
   "cell_type": "markdown",
   "metadata": {},
   "source": [
    "#### Используем набор примеров fashion-MNIST"
   ]
  },
  {
   "cell_type": "markdown",
   "metadata": {},
   "source": [
    "### 1. Опишите - какой результата получен в нейросети в зависимости от:\n",
    "- числа нейронов в слое(для 2-хслойной сети),\n",
    "- числа слоев (2, 3, 5, 10) при близких размерах сети (близкое число тренируемых парметров).\n",
    "- фиксируйте для тренировочного и тестового набора метрики accuracy."
   ]
  },
  {
   "cell_type": "code",
   "execution_count": 1,
   "metadata": {},
   "outputs": [],
   "source": [
    "from keras.datasets import fashion_mnist\n",
    "\n",
    "import numpy as np\n",
    "import keras\n",
    "from keras.models import Sequential\n",
    "from keras.layers import Dense\n",
    "from keras.datasets import mnist\n",
    "from tensorflow.keras.utils import to_categorical\n",
    "import matplotlib.pyplot as plt"
   ]
  },
  {
   "cell_type": "code",
   "execution_count": 2,
   "metadata": {},
   "outputs": [],
   "source": [
    "(train_imagesi,train_labels),(test_imagesi,testn_labels)=fashion_mnist.load_data()"
   ]
  },
  {
   "cell_type": "code",
   "execution_count": 3,
   "metadata": {},
   "outputs": [],
   "source": [
    "# Normalize the images.\n",
    "train_imagesi = (train_imagesi / 127) - 1\n",
    "test_imagesi = (test_imagesi / 127) - 1\n",
    "\n",
    "# Flatten the images.\n",
    "train_images = train_imagesi.reshape((-1, 784))\n",
    "test_images = test_imagesi.reshape((-1, 784))"
   ]
  },
  {
   "cell_type": "code",
   "execution_count": 4,
   "metadata": {},
   "outputs": [
    {
     "data": {
      "image/png": "[encoded data removed]",
      "text/plain": [
       "<Figure size 432x288 with 1 Axes>"
      ]
     },
     "metadata": {
      "needs_background": "light"
     },
     "output_type": "display_data"
    },
    {
     "name": "stdout",
     "output_type": "stream",
     "text": [
      "3\n"
     ]
    }
   ],
   "source": [
    "n = 20\n",
    "plt.imshow(train_imagesi[n,:,:])\n",
    "plt.show()\n",
    "print(train_labels[n])"
   ]
  },
  {
   "cell_type": "code",
   "execution_count": 5,
   "metadata": {},
   "outputs": [],
   "source": [
    "y_t = to_categorical(train_labels)"
   ]
  },
  {
   "cell_type": "code",
   "execution_count": 6,
   "metadata": {},
   "outputs": [],
   "source": [
    "model1 = Sequential(name='my_model')\n",
    "model1.add(Dense(128, activation='relu', input_shape=(784,)))\n",
    "model1.add(Dense(10, activation='softmax'))"
   ]
  },
  {
   "cell_type": "code",
   "execution_count": 7,
   "metadata": {},
   "outputs": [],
   "source": [
    "model1.compile(\n",
    "  optimizer='adam',\n",
    "  loss=keras.losses.CategoricalCrossentropy(),\n",
    "  metrics=['accuracy'],\n",
    ")"
   ]
  },
  {
   "cell_type": "code",
   "execution_count": 8,
   "metadata": {},
   "outputs": [
    {
     "name": "stdout",
     "output_type": "stream",
     "text": [
      "Model: \"my_model\"\n",
      "_________________________________________________________________\n",
      " Layer (type)                Output Shape              Param #   \n",
      "=================================================================\n",
      " dense (Dense)               (None, 128)               100480    \n",
      "                                                                 \n",
      " dense_1 (Dense)             (None, 10)                1290      \n",
      "                                                                 \n",
      "=================================================================\n",
      "Total params: 101,770\n",
      "Trainable params: 101,770\n",
      "Non-trainable params: 0\n",
      "_________________________________________________________________\n"
     ]
    }
   ],
   "source": [
    "model1.summary()"
   ]
  },
  {
   "cell_type": "code",
   "execution_count": 9,
   "metadata": {},
   "outputs": [
    {
     "name": "stdout",
     "output_type": "stream",
     "text": [
      "Epoch 1/2\n",
      "1500/1500 [==============================] - 2s 1ms/step - loss: 0.4995 - accuracy: 0.8192 - val_loss: 0.4160 - val_accuracy: 0.8461\n",
      "Epoch 2/2\n",
      "1500/1500 [==============================] - 2s 1ms/step - loss: 0.3816 - accuracy: 0.8611 - val_loss: 0.3859 - val_accuracy: 0.8586\n"
     ]
    }
   ],
   "source": [
    "hh = model1.fit(\n",
    "    train_images,\n",
    "    y_t,\n",
    "    epochs=2,\n",
    "    batch_size=32,\n",
    "    validation_split=0.2\n",
    ")"
   ]
  },
  {
   "cell_type": "code",
   "execution_count": 10,
   "metadata": {},
   "outputs": [
    {
     "name": "stdout",
     "output_type": "stream",
     "text": [
      "[9 2 1 1 6]\n",
      "[9 2 1 1 6]\n"
     ]
    }
   ],
   "source": [
    "# Predict on the first 5 test images.\n",
    "predictions = model1.predict(test_images[:5])\n",
    "\n",
    "# Print our model's predictions.\n",
    "preds_max = np.argmax(predictions, axis=1)\n",
    "print(preds_max)\n",
    "\n",
    "# Check our predictions against the ground truths.\n",
    "print(testn_labels[:5])"
   ]
  },
  {
   "cell_type": "code",
   "execution_count": 11,
   "metadata": {},
   "outputs": [
    {
     "data": {
      "image/png": "[encoded data removed]",
      "text/plain": [
       "<Figure size 432x288 with 1 Axes>"
      ]
     },
     "metadata": {
      "needs_background": "light"
     },
     "output_type": "display_data"
    },
    {
     "name": "stdout",
     "output_type": "stream",
     "text": [
      "1\n"
     ]
    }
   ],
   "source": [
    "n = 3\n",
    "plt.imshow(test_imagesi[n,:,:])\n",
    "plt.show()\n",
    "print(preds_max[n])"
   ]
  },
  {
   "cell_type": "code",
   "execution_count": 12,
   "metadata": {},
   "outputs": [],
   "source": [
    "def print_hh(hh):\n",
    "    plt.figure(figsize=(15,7))\n",
    "    plt.plot(hh.history['loss'], label = 'потери для тренировки')\n",
    "    plt.plot(hh.history['val_loss'], label = 'потери для валидации')\n",
    "    plt.xlabel('эпох')\n",
    "    plt.ylabel('loss')\n",
    "    plt.legend()\n",
    "    plt.grid('On')\n",
    "    plt.title('потери от эпох')\n",
    "    plt.show()"
   ]
  },
  {
   "cell_type": "code",
   "execution_count": 13,
   "metadata": {},
   "outputs": [
    {
     "data": {
      "image/png": "[encoded data removed]",
      "text/plain": [
       "<Figure size 1080x504 with 1 Axes>"
      ]
     },
     "metadata": {
      "needs_background": "light"
     },
     "output_type": "display_data"
    }
   ],
   "source": [
    "print_hh(hh)"
   ]
  },
  {
   "cell_type": "markdown",
   "metadata": {},
   "source": [
    "#### 2 слоя, 128 нейронов"
   ]
  },
  {
   "cell_type": "code",
   "execution_count": 14,
   "metadata": {},
   "outputs": [
    {
     "data": {
      "text/plain": [
       "(0.8610833287239075, 0.8585833311080933)"
      ]
     },
     "execution_count": 14,
     "metadata": {},
     "output_type": "execute_result"
    }
   ],
   "source": [
    "hh.history.get('accuracy')[-1], hh.history.get('val_accuracy')[-1]"
   ]
  },
  {
   "cell_type": "markdown",
   "metadata": {},
   "source": [
    "#### 2 слоя, 256 нейронов"
   ]
  },
  {
   "cell_type": "code",
   "execution_count": 21,
   "metadata": {},
   "outputs": [
    {
     "name": "stdout",
     "output_type": "stream",
     "text": [
      "Epoch 1/2\n",
      "1500/1500 [==============================] - 2s 1ms/step - loss: 0.4972 - accuracy: 0.8193 - val_loss: 0.4171 - val_accuracy: 0.8461\n",
      "Epoch 2/2\n",
      "1500/1500 [==============================] - 2s 1ms/step - loss: 0.3789 - accuracy: 0.8608 - val_loss: 0.3651 - val_accuracy: 0.8713\n"
     ]
    },
    {
     "data": {
      "text/plain": [
       "(0.8608124852180481, 0.8713333606719971)"
      ]
     },
     "execution_count": 21,
     "metadata": {},
     "output_type": "execute_result"
    }
   ],
   "source": [
    "model1 = Sequential(name='my_model')\n",
    "model1.add(Dense(256, activation='relu', input_shape=(784,)))\n",
    "model1.add(Dense(10, activation='softmax'))\n",
    "\n",
    "model1.compile(\n",
    "  optimizer='adam',\n",
    "  loss=keras.losses.CategoricalCrossentropy(),\n",
    "  metrics=['accuracy'],\n",
    ")\n",
    "\n",
    "hh = model1.fit(\n",
    "    train_images,\n",
    "    y_t,\n",
    "    epochs=2,\n",
    "    batch_size=32,\n",
    "    validation_split=0.2\n",
    ")\n",
    "\n",
    "hh.history.get('accuracy')[-1], hh.history.get('val_accuracy')[-1]"
   ]
  },
  {
   "cell_type": "markdown",
   "metadata": {},
   "source": [
    "#### 2 слоя, 512 нейронов"
   ]
  },
  {
   "cell_type": "code",
   "execution_count": 26,
   "metadata": {},
   "outputs": [
    {
     "name": "stdout",
     "output_type": "stream",
     "text": [
      "Epoch 1/2\n",
      "1500/1500 [==============================] - 3s 2ms/step - loss: 0.4895 - accuracy: 0.8218 - val_loss: 0.4306 - val_accuracy: 0.8444\n",
      "Epoch 2/2\n",
      "1500/1500 [==============================] - 3s 2ms/step - loss: 0.3798 - accuracy: 0.8604 - val_loss: 0.3746 - val_accuracy: 0.8624\n"
     ]
    },
    {
     "data": {
      "text/plain": [
       "(0.8603958487510681, 0.862416684627533)"
      ]
     },
     "execution_count": 26,
     "metadata": {},
     "output_type": "execute_result"
    }
   ],
   "source": [
    "model1 = Sequential(name='my_model')\n",
    "model1.add(Dense(512, activation='relu', input_shape=(784,)))\n",
    "model1.add(Dense(10, activation='softmax'))\n",
    "\n",
    "model1.compile(\n",
    "  optimizer='adam',\n",
    "  loss=keras.losses.CategoricalCrossentropy(),\n",
    "  metrics=['accuracy'],\n",
    ")\n",
    "\n",
    "hh = model1.fit(\n",
    "    train_images,\n",
    "    y_t,\n",
    "    epochs=2,\n",
    "    batch_size=32,\n",
    "    validation_split=0.2\n",
    ")\n",
    "\n",
    "hh.history.get('accuracy')[-1], hh.history.get('val_accuracy')[-1]"
   ]
  },
  {
   "cell_type": "markdown",
   "metadata": {},
   "source": [
    "#### 2 слоя, 16 нейронов"
   ]
  },
  {
   "cell_type": "code",
   "execution_count": 31,
   "metadata": {},
   "outputs": [
    {
     "name": "stdout",
     "output_type": "stream",
     "text": [
      "Epoch 1/2\n",
      "1500/1500 [==============================] - 2s 997us/step - loss: 0.5884 - accuracy: 0.7921 - val_loss: 0.4810 - val_accuracy: 0.8282\n",
      "Epoch 2/2\n",
      "1500/1500 [==============================] - 1s 928us/step - loss: 0.4540 - accuracy: 0.8394 - val_loss: 0.4486 - val_accuracy: 0.8399\n"
     ]
    },
    {
     "data": {
      "text/plain": [
       "(0.8393541574478149, 0.8399166464805603)"
      ]
     },
     "execution_count": 31,
     "metadata": {},
     "output_type": "execute_result"
    }
   ],
   "source": [
    "model1 = Sequential(name='my_model')\n",
    "model1.add(Dense(16, activation='relu', input_shape=(784,)))\n",
    "model1.add(Dense(10, activation='softmax'))\n",
    "\n",
    "model1.compile(\n",
    "  optimizer='adam',\n",
    "  loss=keras.losses.CategoricalCrossentropy(),\n",
    "  metrics=['accuracy'],\n",
    ")\n",
    "\n",
    "hh = model1.fit(\n",
    "    train_images,\n",
    "    y_t,\n",
    "    epochs=2,\n",
    "    batch_size=32,\n",
    "    validation_split=0.2\n",
    ")\n",
    "\n",
    "hh.history.get('accuracy')[-1], hh.history.get('val_accuracy')[-1]"
   ]
  },
  {
   "cell_type": "markdown",
   "metadata": {},
   "source": [
    "#### Вывод: Изменения количества нейронов особой роли не играет."
   ]
  },
  {
   "cell_type": "markdown",
   "metadata": {},
   "source": [
    "#### 2 layers / Total params: 101,770"
   ]
  },
  {
   "cell_type": "code",
   "execution_count": 45,
   "metadata": {},
   "outputs": [
    {
     "name": "stdout",
     "output_type": "stream",
     "text": [
      "Model: \"my_model\"\n",
      "_________________________________________________________________\n",
      " Layer (type)                Output Shape              Param #   \n",
      "=================================================================\n",
      " dense_59 (Dense)            (None, 128)               100480    \n",
      "                                                                 \n",
      " dense_60 (Dense)            (None, 10)                1290      \n",
      "                                                                 \n",
      "=================================================================\n",
      "Total params: 101,770\n",
      "Trainable params: 101,770\n",
      "Non-trainable params: 0\n",
      "_________________________________________________________________\n"
     ]
    }
   ],
   "source": [
    "model1 = Sequential(name='my_model')\n",
    "model1.add(Dense(128, activation='relu', input_shape=(784,)))\n",
    "model1.add(Dense(10, activation='softmax'))\n",
    "model1.summary()"
   ]
  },
  {
   "cell_type": "code",
   "execution_count": 50,
   "metadata": {},
   "outputs": [
    {
     "name": "stdout",
     "output_type": "stream",
     "text": [
      "Epoch 1/2\n",
      "1500/1500 [==============================] - 2s 1ms/step - loss: 0.2551 - accuracy: 0.9046 - val_loss: 0.3458 - val_accuracy: 0.8802\n",
      "Epoch 2/2\n",
      "1500/1500 [==============================] - 2s 1ms/step - loss: 0.2427 - accuracy: 0.9099 - val_loss: 0.3479 - val_accuracy: 0.8832\n"
     ]
    },
    {
     "data": {
      "text/plain": [
       "(0.9098958373069763, 0.8831666707992554)"
      ]
     },
     "execution_count": 50,
     "metadata": {},
     "output_type": "execute_result"
    }
   ],
   "source": [
    "model1.compile(\n",
    "  optimizer='adam',\n",
    "  loss=keras.losses.CategoricalCrossentropy(),\n",
    "  metrics=['accuracy'],\n",
    ")\n",
    "\n",
    "hh = model1.fit(\n",
    "    train_images,\n",
    "    y_t,\n",
    "    epochs=2,\n",
    "    batch_size=32,\n",
    "    validation_split=0.2\n",
    ")\n",
    "\n",
    "hh.history.get('accuracy')[-1], hh.history.get('val_accuracy')[-1]"
   ]
  },
  {
   "cell_type": "markdown",
   "metadata": {},
   "source": [
    "#### 3 layers / Total params: 101,706"
   ]
  },
  {
   "cell_type": "code",
   "execution_count": 53,
   "metadata": {},
   "outputs": [
    {
     "name": "stdout",
     "output_type": "stream",
     "text": [
      "Model: \"my_model\"\n",
      "_________________________________________________________________\n",
      " Layer (type)                Output Shape              Param #   \n",
      "=================================================================\n",
      " dense_67 (Dense)            (None, 112)               87920     \n",
      "                                                                 \n",
      " dense_68 (Dense)            (None, 112)               12656     \n",
      "                                                                 \n",
      " dense_69 (Dense)            (None, 10)                1130      \n",
      "                                                                 \n",
      "=================================================================\n",
      "Total params: 101,706\n",
      "Trainable params: 101,706\n",
      "Non-trainable params: 0\n",
      "_________________________________________________________________\n"
     ]
    }
   ],
   "source": [
    "model1 = Sequential(name='my_model')\n",
    "model1.add(Dense(112, activation='relu', input_shape=(784,)))\n",
    "model1.add(Dense(112, activation='tanh'))\n",
    "model1.add(Dense(10, activation='softmax'))\n",
    "model1.summary()"
   ]
  },
  {
   "cell_type": "code",
   "execution_count": 58,
   "metadata": {},
   "outputs": [
    {
     "name": "stdout",
     "output_type": "stream",
     "text": [
      "Epoch 1/2\n",
      "1500/1500 [==============================] - 2s 1ms/step - loss: 0.2501 - accuracy: 0.9070 - val_loss: 0.3242 - val_accuracy: 0.8859\n",
      "Epoch 2/2\n",
      "1500/1500 [==============================] - 2s 1ms/step - loss: 0.2400 - accuracy: 0.9102 - val_loss: 0.3225 - val_accuracy: 0.8846\n"
     ]
    },
    {
     "data": {
      "text/plain": [
       "(0.9101666808128357, 0.8845833539962769)"
      ]
     },
     "execution_count": 58,
     "metadata": {},
     "output_type": "execute_result"
    }
   ],
   "source": [
    "model1.compile(\n",
    "  optimizer='adam',\n",
    "  loss=keras.losses.CategoricalCrossentropy(),\n",
    "  metrics=['accuracy'],\n",
    ")\n",
    "\n",
    "hh = model1.fit(\n",
    "    train_images,\n",
    "    y_t,\n",
    "    epochs=2,\n",
    "    batch_size=32,\n",
    "    validation_split=0.2\n",
    ")\n",
    "\n",
    "hh.history.get('accuracy')[-1], hh.history.get('val_accuracy')[-1]"
   ]
  },
  {
   "cell_type": "markdown",
   "metadata": {},
   "source": [
    "#### 5 layers / Total params: 101,944"
   ]
  },
  {
   "cell_type": "code",
   "execution_count": 66,
   "metadata": {},
   "outputs": [
    {
     "name": "stdout",
     "output_type": "stream",
     "text": [
      "Model: \"my_model\"\n",
      "_________________________________________________________________\n",
      " Layer (type)                Output Shape              Param #   \n",
      "=================================================================\n",
      " dense_101 (Dense)           (None, 100)               78500     \n",
      "                                                                 \n",
      " dense_102 (Dense)           (None, 90)                9090      \n",
      "                                                                 \n",
      " dense_103 (Dense)           (None, 82)                7462      \n",
      "                                                                 \n",
      " dense_104 (Dense)           (None, 74)                6142      \n",
      "                                                                 \n",
      " dense_105 (Dense)           (None, 10)                750       \n",
      "                                                                 \n",
      "=================================================================\n",
      "Total params: 101,944\n",
      "Trainable params: 101,944\n",
      "Non-trainable params: 0\n",
      "_________________________________________________________________\n"
     ]
    }
   ],
   "source": [
    "model1 = Sequential(name='my_model')\n",
    "model1.add(Dense(100, activation='relu', input_shape=(784,)))\n",
    "for k in range(3):\n",
    "    model1.add(Dense(10+(10-k)*8, activation='tanh')) \n",
    "model1.add(Dense(10, activation='softmax'))\n",
    "model1.summary()"
   ]
  },
  {
   "cell_type": "code",
   "execution_count": 71,
   "metadata": {},
   "outputs": [
    {
     "name": "stdout",
     "output_type": "stream",
     "text": [
      "Epoch 1/2\n",
      "1500/1500 [==============================] - 3s 2ms/step - loss: 0.2700 - accuracy: 0.8992 - val_loss: 0.3318 - val_accuracy: 0.8819\n",
      "Epoch 2/2\n",
      "1500/1500 [==============================] - 2s 2ms/step - loss: 0.2603 - accuracy: 0.9029 - val_loss: 0.3379 - val_accuracy: 0.8798\n"
     ]
    },
    {
     "data": {
      "text/plain": [
       "(0.9028958082199097, 0.8797500133514404)"
      ]
     },
     "execution_count": 71,
     "metadata": {},
     "output_type": "execute_result"
    }
   ],
   "source": [
    "model1.compile(\n",
    "  optimizer='adam',\n",
    "  loss=keras.losses.CategoricalCrossentropy(),\n",
    "  metrics=['accuracy'],\n",
    ")\n",
    "\n",
    "hh = model1.fit(\n",
    "    train_images,\n",
    "    y_t,\n",
    "    epochs=2,\n",
    "    batch_size=32,\n",
    "    validation_split=0.2\n",
    ")\n",
    "\n",
    "hh.history.get('accuracy')[-1], hh.history.get('val_accuracy')[-1]"
   ]
  },
  {
   "cell_type": "markdown",
   "metadata": {},
   "source": [
    "#### 10 layers / Total params: 101,780"
   ]
  },
  {
   "cell_type": "code",
   "execution_count": 79,
   "metadata": {},
   "outputs": [
    {
     "name": "stdout",
     "output_type": "stream",
     "text": [
      "Model: \"my_model\"\n",
      "_________________________________________________________________\n",
      " Layer (type)                Output Shape              Param #   \n",
      "=================================================================\n",
      " dense_176 (Dense)           (None, 104)               81640     \n",
      "                                                                 \n",
      " dense_177 (Dense)           (None, 60)                6300      \n",
      "                                                                 \n",
      " dense_178 (Dense)           (None, 55)                3355      \n",
      "                                                                 \n",
      " dense_179 (Dense)           (None, 50)                2800      \n",
      "                                                                 \n",
      " dense_180 (Dense)           (None, 45)                2295      \n",
      "                                                                 \n",
      " dense_181 (Dense)           (None, 40)                1840      \n",
      "                                                                 \n",
      " dense_182 (Dense)           (None, 35)                1435      \n",
      "                                                                 \n",
      " dense_183 (Dense)           (None, 30)                1080      \n",
      "                                                                 \n",
      " dense_184 (Dense)           (None, 25)                775       \n",
      "                                                                 \n",
      " dense_185 (Dense)           (None, 10)                260       \n",
      "                                                                 \n",
      "=================================================================\n",
      "Total params: 101,780\n",
      "Trainable params: 101,780\n",
      "Non-trainable params: 0\n",
      "_________________________________________________________________\n"
     ]
    }
   ],
   "source": [
    "model1 = Sequential(name='my_model')\n",
    "model1.add(Dense(104, activation='relu', input_shape=(784,)))\n",
    "for k in range(8):\n",
    "    model1.add(Dense(10+(10-k)*5, activation='tanh')) \n",
    "model1.add(Dense(10, activation='softmax'))\n",
    "model1.summary()"
   ]
  },
  {
   "cell_type": "code",
   "execution_count": 83,
   "metadata": {},
   "outputs": [
    {
     "name": "stdout",
     "output_type": "stream",
     "text": [
      "Epoch 1/2\n",
      "1500/1500 [==============================] - 3s 2ms/step - loss: 0.3307 - accuracy: 0.8812 - val_loss: 0.3748 - val_accuracy: 0.8681\n",
      "Epoch 2/2\n",
      "1500/1500 [==============================] - 3s 2ms/step - loss: 0.3172 - accuracy: 0.8862 - val_loss: 0.4346 - val_accuracy: 0.8577\n"
     ]
    },
    {
     "data": {
      "text/plain": [
       "(0.8862083554267883, 0.8576666712760925)"
      ]
     },
     "execution_count": 83,
     "metadata": {},
     "output_type": "execute_result"
    }
   ],
   "source": [
    "model1.compile(\n",
    "  optimizer='adam',\n",
    "  loss=keras.losses.CategoricalCrossentropy(),\n",
    "  metrics=['accuracy'],\n",
    ")\n",
    "\n",
    "hh = model1.fit(\n",
    "    train_images,\n",
    "    y_t,\n",
    "    epochs=2,\n",
    "    batch_size=32,\n",
    "    validation_split=0.2\n",
    ")\n",
    "\n",
    "hh.history.get('accuracy')[-1], hh.history.get('val_accuracy')[-1]"
   ]
  },
  {
   "cell_type": "markdown",
   "metadata": {},
   "source": [
    "#### Вывод:\n",
    "При количестве эпох = 2, изменение количества слоёв и нейронов на метрике особо не отражается."
   ]
  },
  {
   "cell_type": "markdown",
   "metadata": {},
   "source": [
    "### Проверьте работу разных оптимизаторов (SGD, Adam, RMSProp) для одной из моделей п.1.Фиксируйте для тренировочного и тестового набора метрики accuracy."
   ]
  },
  {
   "cell_type": "code",
   "execution_count": 85,
   "metadata": {},
   "outputs": [
    {
     "name": "stdout",
     "output_type": "stream",
     "text": [
      "Epoch 1/5\n",
      "1500/1500 [==============================] - 2s 1ms/step - loss: 0.6188 - accuracy: 0.7859 - val_loss: 0.4849 - val_accuracy: 0.8287\n",
      "Epoch 2/5\n",
      "1500/1500 [==============================] - 2s 1ms/step - loss: 0.4569 - accuracy: 0.8391 - val_loss: 0.4361 - val_accuracy: 0.8439\n",
      "Epoch 3/5\n",
      "1500/1500 [==============================] - 2s 1ms/step - loss: 0.4206 - accuracy: 0.8513 - val_loss: 0.4145 - val_accuracy: 0.8545\n",
      "Epoch 4/5\n",
      "1500/1500 [==============================] - 2s 1ms/step - loss: 0.3964 - accuracy: 0.8602 - val_loss: 0.4012 - val_accuracy: 0.8572\n",
      "Epoch 5/5\n",
      "1500/1500 [==============================] - 2s 1ms/step - loss: 0.3791 - accuracy: 0.8651 - val_loss: 0.3944 - val_accuracy: 0.8608\n",
      "0.8650833368301392 0.8608333468437195\n",
      "Epoch 1/5\n",
      "1500/1500 [==============================] - 2s 1ms/step - loss: 0.4986 - accuracy: 0.8209 - val_loss: 0.4079 - val_accuracy: 0.8539\n",
      "Epoch 2/5\n",
      "1500/1500 [==============================] - 2s 1ms/step - loss: 0.3838 - accuracy: 0.8611 - val_loss: 0.3952 - val_accuracy: 0.8565\n",
      "Epoch 3/5\n",
      "1500/1500 [==============================] - 2s 1ms/step - loss: 0.3471 - accuracy: 0.8715 - val_loss: 0.3854 - val_accuracy: 0.8602\n",
      "Epoch 4/5\n",
      "1500/1500 [==============================] - 2s 1ms/step - loss: 0.3203 - accuracy: 0.8816 - val_loss: 0.3598 - val_accuracy: 0.8731\n",
      "Epoch 5/5\n",
      "1500/1500 [==============================] - 2s 1ms/step - loss: 0.3034 - accuracy: 0.8878 - val_loss: 0.3579 - val_accuracy: 0.8727\n",
      "0.8877708315849304 0.8727499842643738\n",
      "Epoch 1/5\n",
      "1500/1500 [==============================] - 3s 2ms/step - loss: 0.5205 - accuracy: 0.8117 - val_loss: 0.4247 - val_accuracy: 0.8460\n",
      "Epoch 2/5\n",
      "1500/1500 [==============================] - 2s 1ms/step - loss: 0.3989 - accuracy: 0.8566 - val_loss: 0.3881 - val_accuracy: 0.8624\n",
      "Epoch 3/5\n",
      "1500/1500 [==============================] - 2s 1ms/step - loss: 0.3617 - accuracy: 0.8705 - val_loss: 0.4190 - val_accuracy: 0.8587\n",
      "Epoch 4/5\n",
      "1500/1500 [==============================] - 2s 1ms/step - loss: 0.3392 - accuracy: 0.8783 - val_loss: 0.3909 - val_accuracy: 0.8680\n",
      "Epoch 5/5\n",
      "1500/1500 [==============================] - 2s 1ms/step - loss: 0.3229 - accuracy: 0.8846 - val_loss: 0.3836 - val_accuracy: 0.8739\n",
      "0.8845833539962769 0.8739166855812073\n"
     ]
    }
   ],
   "source": [
    "for optimizer in ['SGD', 'Adam', 'RMSProp']:\n",
    "    model1 = Sequential(name='my_model')\n",
    "    model1.add(Dense(128, activation='relu', input_shape=(784,)))\n",
    "    model1.add(Dense(10, activation='softmax'))\n",
    "\n",
    "    model1.compile(\n",
    "      optimizer=optimizer,\n",
    "      loss=keras.losses.CategoricalCrossentropy(),\n",
    "      metrics=['accuracy'],\n",
    "    )\n",
    "\n",
    "    hh = model1.fit(\n",
    "        train_images,\n",
    "        y_t,\n",
    "        epochs=5,\n",
    "        batch_size=32,\n",
    "        validation_split=0.2\n",
    "    )\n",
    "\n",
    "    print(hh.history.get('accuracy')[-1], hh.history.get('val_accuracy')[-1])"
   ]
  },
  {
   "cell_type": "markdown",
   "metadata": {},
   "source": [
    "- 0.8650833368301392 0.8608333468437195\n",
    "- 0.8877708315849304 0.8727499842643738\n",
    "- 0.8845833539962769 0.8739166855812073"
   ]
  },
  {
   "cell_type": "markdown",
   "metadata": {},
   "source": [
    "#### Вывод:\n",
    "При количестве эпох = 5 и 2-х слоях чуть лучше работают 'Adam' и 'RMSProp' оптимизации."
   ]
  },
  {
   "cell_type": "markdown",
   "metadata": {},
   "source": [
    "### 3. Сделайте вывод - что помогло вам улучшить качество классификации в нейросети на тестовом наборе? "
   ]
  },
  {
   "cell_type": "code",
   "execution_count": 95,
   "metadata": {},
   "outputs": [
    {
     "name": "stdout",
     "output_type": "stream",
     "text": [
      "Model: \"my_model\"\n",
      "_________________________________________________________________\n",
      " Layer (type)                Output Shape              Param #   \n",
      "=================================================================\n",
      " dense_268 (Dense)           (None, 512)               401920    \n",
      "                                                                 \n",
      " dense_269 (Dense)           (None, 110)               56430     \n",
      "                                                                 \n",
      " dense_270 (Dense)           (None, 100)               11100     \n",
      "                                                                 \n",
      " dense_271 (Dense)           (None, 90)                9090      \n",
      "                                                                 \n",
      " dense_272 (Dense)           (None, 80)                7280      \n",
      "                                                                 \n",
      " dense_273 (Dense)           (None, 70)                5670      \n",
      "                                                                 \n",
      " dense_274 (Dense)           (None, 60)                4260      \n",
      "                                                                 \n",
      " dense_275 (Dense)           (None, 50)                3050      \n",
      "                                                                 \n",
      " dense_276 (Dense)           (None, 40)                2040      \n",
      "                                                                 \n",
      " dense_277 (Dense)           (None, 30)                1230      \n",
      "                                                                 \n",
      " dense_278 (Dense)           (None, 20)                620       \n",
      "                                                                 \n",
      " dense_279 (Dense)           (None, 10)                210       \n",
      "                                                                 \n",
      "=================================================================\n",
      "Total params: 502,900\n",
      "Trainable params: 502,900\n",
      "Non-trainable params: 0\n",
      "_________________________________________________________________\n"
     ]
    }
   ],
   "source": [
    "model1 = Sequential(name='my_model')\n",
    "model1.add(Dense(512, activation='relu', input_shape=(784,)))\n",
    "for k in range(10):\n",
    "    model1.add(Dense(10+(10-k)*10, activation='tanh')) \n",
    "model1.add(Dense(10, activation='softmax'))\n",
    "model1.summary()"
   ]
  },
  {
   "cell_type": "code",
   "execution_count": 98,
   "metadata": {},
   "outputs": [
    {
     "name": "stdout",
     "output_type": "stream",
     "text": [
      "Epoch 1/10\n",
      "1500/1500 [==============================] - 6s 4ms/step - loss: 0.3976 - accuracy: 0.8639 - val_loss: 0.4416 - val_accuracy: 0.8547\n",
      "Epoch 2/10\n",
      "1500/1500 [==============================] - 6s 4ms/step - loss: 0.3878 - accuracy: 0.8671 - val_loss: 0.3951 - val_accuracy: 0.8633\n",
      "Epoch 3/10\n",
      "1500/1500 [==============================] - 6s 4ms/step - loss: 0.3812 - accuracy: 0.8700 - val_loss: 0.4581 - val_accuracy: 0.8463\n",
      "Epoch 4/10\n",
      "1500/1500 [==============================] - 6s 4ms/step - loss: 0.3871 - accuracy: 0.8689 - val_loss: 0.4267 - val_accuracy: 0.8583\n",
      "Epoch 5/10\n",
      "1500/1500 [==============================] - 6s 4ms/step - loss: 0.3882 - accuracy: 0.8680 - val_loss: 0.4328 - val_accuracy: 0.8586\n",
      "Epoch 6/10\n",
      "1500/1500 [==============================] - 6s 4ms/step - loss: 0.3843 - accuracy: 0.8691 - val_loss: 0.4067 - val_accuracy: 0.8664\n",
      "Epoch 7/10\n",
      "1500/1500 [==============================] - 6s 4ms/step - loss: 0.3816 - accuracy: 0.8718 - val_loss: 0.4401 - val_accuracy: 0.8602\n",
      "Epoch 8/10\n",
      "1500/1500 [==============================] - 6s 4ms/step - loss: 0.3717 - accuracy: 0.8732 - val_loss: 0.4177 - val_accuracy: 0.8602\n",
      "Epoch 9/10\n",
      "1500/1500 [==============================] - 6s 4ms/step - loss: 0.3742 - accuracy: 0.8748 - val_loss: 0.4390 - val_accuracy: 0.8462\n",
      "Epoch 10/10\n",
      "1500/1500 [==============================] - 6s 4ms/step - loss: 0.3678 - accuracy: 0.8752 - val_loss: 0.3969 - val_accuracy: 0.8683\n"
     ]
    }
   ],
   "source": [
    "model1.compile(\n",
    "    optimizer='RMSProp',\n",
    "    loss=keras.losses.CategoricalCrossentropy(),\n",
    "    metrics=['accuracy'],\n",
    ")\n",
    "\n",
    "hh = model1.fit(\n",
    "    train_images,\n",
    "    y_t,\n",
    "    epochs=10,\n",
    "    batch_size=32,\n",
    "    validation_split=0.2\n",
    ")"
   ]
  },
  {
   "cell_type": "code",
   "execution_count": 97,
   "metadata": {},
   "outputs": [
    {
     "data": {
      "text/plain": [
       "(0.8659999966621399, 0.859250009059906)"
      ]
     },
     "execution_count": 97,
     "metadata": {},
     "output_type": "execute_result"
    }
   ],
   "source": [
    "hh.history.get('accuracy')[-1], hh.history.get('val_accuracy')[-1]"
   ]
  },
  {
   "cell_type": "markdown",
   "metadata": {},
   "source": [
    "### Вывод:  Изменение параметров на метрике особо не сказалось. При увеличении параметров сеть переобучается."
   ]
  },
  {
   "cell_type": "markdown",
   "metadata": {},
   "source": [
    "### 4. Для одного варианта сетей сформируйте матрицу ошибок по классам. Оцените качество модели по каждому классу отдельно (полнота , точность). Сделайте вывод."
   ]
  },
  {
   "cell_type": "code",
   "execution_count": 100,
   "metadata": {},
   "outputs": [],
   "source": [
    "predictions = model1.predict(test_images)"
   ]
  },
  {
   "cell_type": "code",
   "execution_count": 109,
   "metadata": {},
   "outputs": [],
   "source": [
    "from sklearn.metrics import confusion_matrix, classification_report"
   ]
  },
  {
   "cell_type": "code",
   "execution_count": 106,
   "metadata": {},
   "outputs": [],
   "source": [
    "cm = confusion_matrix(testn_labels, predictions.argmax(axis=1))"
   ]
  },
  {
   "cell_type": "code",
   "execution_count": 107,
   "metadata": {},
   "outputs": [
    {
     "data": {
      "text/plain": [
       "(10, 10)"
      ]
     },
     "execution_count": 107,
     "metadata": {},
     "output_type": "execute_result"
    }
   ],
   "source": [
    "cm.shape"
   ]
  },
  {
   "cell_type": "code",
   "execution_count": 108,
   "metadata": {},
   "outputs": [
    {
     "data": {
      "image/png": "[encoded data removed]",
      "text/plain": [
       "<Figure size 720x720 with 2 Axes>"
      ]
     },
     "metadata": {
      "needs_background": "light"
     },
     "output_type": "display_data"
    }
   ],
   "source": [
    "import matplotlib.pyplot as plt\n",
    "import seaborn as sns\n",
    "import pandas as pd \n",
    "\n",
    "cm = pd.DataFrame(cm, range(10),range(10))\n",
    "plt.figure(figsize = (10,10))\n",
    "\n",
    "sns.heatmap(cm, annot=True)\n",
    "plt.show()"
   ]
  },
  {
   "cell_type": "code",
   "execution_count": 112,
   "metadata": {},
   "outputs": [
    {
     "name": "stdout",
     "output_type": "stream",
     "text": [
      "              precision    recall  f1-score   support\n",
      "\n",
      "           0       0.78      0.84      0.81      1000\n",
      "           1       0.99      0.96      0.97      1000\n",
      "           2       0.81      0.71      0.76      1000\n",
      "           3       0.88      0.85      0.87      1000\n",
      "           4       0.76      0.81      0.78      1000\n",
      "           5       0.95      0.94      0.94      1000\n",
      "           6       0.65      0.63      0.64      1000\n",
      "           7       0.91      0.94      0.93      1000\n",
      "           8       0.91      0.97      0.94      1000\n",
      "           9       0.95      0.94      0.95      1000\n",
      "\n",
      "    accuracy                           0.86     10000\n",
      "   macro avg       0.86      0.86      0.86     10000\n",
      "weighted avg       0.86      0.86      0.86     10000\n",
      "\n"
     ]
    }
   ],
   "source": [
    "print(classification_report(testn_labels, predictions.argmax(axis=1)))"
   ]
  },
  {
   "cell_type": "markdown",
   "metadata": {},
   "source": [
    "### Вывод: По f1-score видно, что сеть плохо справляется с классом 6."
   ]
  },
  {
   "cell_type": "code",
   "execution_count": 135,
   "metadata": {},
   "outputs": [
    {
     "data": {
      "image/png": "[encoded data removed]",
      "text/plain": [
       "<Figure size 432x288 with 1 Axes>"
      ]
     },
     "metadata": {
      "needs_background": "light"
     },
     "output_type": "display_data"
    },
    {
     "name": "stdout",
     "output_type": "stream",
     "text": [
      "6\n"
     ]
    },
    {
     "data": {
      "image/png": "[encoded data removed]",
      "text/plain": [
       "<Figure size 432x288 with 1 Axes>"
      ]
     },
     "metadata": {
      "needs_background": "light"
     },
     "output_type": "display_data"
    },
    {
     "name": "stdout",
     "output_type": "stream",
     "text": [
      "6\n"
     ]
    },
    {
     "data": {
      "image/png": "[encoded data removed]",
      "text/plain": [
       "<Figure size 432x288 with 1 Axes>"
      ]
     },
     "metadata": {
      "needs_background": "light"
     },
     "output_type": "display_data"
    },
    {
     "name": "stdout",
     "output_type": "stream",
     "text": [
      "6\n"
     ]
    },
    {
     "data": {
      "image/png": "[encoded data removed]",
      "text/plain": [
       "<Figure size 432x288 with 1 Axes>"
      ]
     },
     "metadata": {
      "needs_background": "light"
     },
     "output_type": "display_data"
    },
    {
     "name": "stdout",
     "output_type": "stream",
     "text": [
      "6\n"
     ]
    },
    {
     "data": {
      "image/png": "[encoded data removed]",
      "text/plain": [
       "<Figure size 432x288 with 1 Axes>"
      ]
     },
     "metadata": {
      "needs_background": "light"
     },
     "output_type": "display_data"
    },
    {
     "name": "stdout",
     "output_type": "stream",
     "text": [
      "6\n"
     ]
    }
   ],
   "source": [
    "ind=np.where(testn_labels==6)[0]\n",
    "for n in np.random.choice(ind, size=5):\n",
    "    plt.imshow(test_imagesi[n,:,:])\n",
    "    plt.show()\n",
    "    print(testn_labels[n])"
   ]
  },
  {
   "cell_type": "markdown",
   "metadata": {},
   "source": [
    "Для сравнения - класс 9. Картинки более похожие."
   ]
  },
  {
   "cell_type": "code",
   "execution_count": 136,
   "metadata": {},
   "outputs": [
    {
     "data": {
      "image/png": "[encoded data removed]",
      "text/plain": [
       "<Figure size 432x288 with 1 Axes>"
      ]
     },
     "metadata": {
      "needs_background": "light"
     },
     "output_type": "display_data"
    },
    {
     "name": "stdout",
     "output_type": "stream",
     "text": [
      "9\n"
     ]
    },
    {
     "data": {
      "image/png": "[encoded data removed]",
      "text/plain": [
       "<Figure size 432x288 with 1 Axes>"
      ]
     },
     "metadata": {
      "needs_background": "light"
     },
     "output_type": "display_data"
    },
    {
     "name": "stdout",
     "output_type": "stream",
     "text": [
      "9\n"
     ]
    },
    {
     "data": {
      "image/png": "[encoded data removed]",
      "text/plain": [
       "<Figure size 432x288 with 1 Axes>"
      ]
     },
     "metadata": {
      "needs_background": "light"
     },
     "output_type": "display_data"
    },
    {
     "name": "stdout",
     "output_type": "stream",
     "text": [
      "9\n"
     ]
    },
    {
     "data": {
      "image/png": "[encoded data removed]",
      "text/plain": [
       "<Figure size 432x288 with 1 Axes>"
      ]
     },
     "metadata": {
      "needs_background": "light"
     },
     "output_type": "display_data"
    },
    {
     "name": "stdout",
     "output_type": "stream",
     "text": [
      "9\n"
     ]
    },
    {
     "data": {
      "image/png": "[encoded data removed]",
      "text/plain": [
       "<Figure size 432x288 with 1 Axes>"
      ]
     },
     "metadata": {
      "needs_background": "light"
     },
     "output_type": "display_data"
    },
    {
     "name": "stdout",
     "output_type": "stream",
     "text": [
      "9\n"
     ]
    }
   ],
   "source": [
    "ind=np.where(testn_labels==9)[0]\n",
    "for n in np.random.choice(ind, size=5):\n",
    "    plt.imshow(test_imagesi[n,:,:])\n",
    "    plt.show()\n",
    "    print(testn_labels[n])"
   ]
  },
  {
   "cell_type": "code",
   "execution_count": null,
   "metadata": {},
   "outputs": [],
   "source": []
  }
 ],
 "metadata": {
  "kernelspec": {
   "display_name": "Python 3",
   "language": "python",
   "name": "python3"
  },
  "language_info": {
   "codemirror_mode": {
    "name": "ipython",
    "version": 3
   },
   "file_extension": ".py",
   "mimetype": "text/x-python",
   "name": "python",
   "nbconvert_exporter": "python",
   "pygments_lexer": "ipython3",
   "version": "3.8.5"
  }
 },
 "nbformat": 4,
 "nbformat_minor": 4
}
