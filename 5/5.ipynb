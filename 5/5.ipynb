{
 "cells": [
  {
   "cell_type": "code",
   "execution_count": 40,
   "metadata": {},
   "outputs": [],
   "source": [
    "%matplotlib inline\n",
    "\n",
    "import pandas as pd\n",
    "import matplotlib.pyplot as plt\n",
    "from tensorflow.keras import utils\n",
    "import numpy as np\n",
    "import tensorflow.keras as keras\n",
    "from tensorflow.keras.optimizers import Adam\n",
    "from tensorflow.keras.models import Sequential, Model\n",
    "from tensorflow.keras.layers import concatenate, Input, Dense, Dropout, BatchNormalization, Flatten, Conv1D, Conv2D, LSTM\n",
    "\n",
    "from sklearn.model_selection import train_test_split\n",
    "from sklearn.preprocessing import StandardScaler, MinMaxScaler\n",
    "from tensorflow.keras.callbacks import EarlyStopping, TensorBoard\n",
    "import os\n",
    "import datetime"
   ]
  },
  {
   "cell_type": "code",
   "execution_count": 41,
   "metadata": {},
   "outputs": [],
   "source": [
    "df = pd.read_csv('Microsoft_Stock.csv')"
   ]
  },
  {
   "cell_type": "code",
   "execution_count": 42,
   "metadata": {},
   "outputs": [
    {
     "data": {
      "text/html": [
       "<div>\n",
       "<style scoped>\n",
       "    .dataframe tbody tr th:only-of-type {\n",
       "        vertical-align: middle;\n",
       "    }\n",
       "\n",
       "    .dataframe tbody tr th {\n",
       "        vertical-align: top;\n",
       "    }\n",
       "\n",
       "    .dataframe thead th {\n",
       "        text-align: right;\n",
       "    }\n",
       "</style>\n",
       "<table border=\"1\" class=\"dataframe\">\n",
       "  <thead>\n",
       "    <tr style=\"text-align: right;\">\n",
       "      <th></th>\n",
       "      <th>Date</th>\n",
       "      <th>Open</th>\n",
       "      <th>High</th>\n",
       "      <th>Low</th>\n",
       "      <th>Close</th>\n",
       "      <th>Volume</th>\n",
       "    </tr>\n",
       "  </thead>\n",
       "  <tbody>\n",
       "    <tr>\n",
       "      <th>0</th>\n",
       "      <td>4/1/2015 16:00:00</td>\n",
       "      <td>40.60</td>\n",
       "      <td>40.76</td>\n",
       "      <td>40.31</td>\n",
       "      <td>40.72</td>\n",
       "      <td>36865322</td>\n",
       "    </tr>\n",
       "    <tr>\n",
       "      <th>1</th>\n",
       "      <td>4/2/2015 16:00:00</td>\n",
       "      <td>40.66</td>\n",
       "      <td>40.74</td>\n",
       "      <td>40.12</td>\n",
       "      <td>40.29</td>\n",
       "      <td>37487476</td>\n",
       "    </tr>\n",
       "    <tr>\n",
       "      <th>2</th>\n",
       "      <td>4/6/2015 16:00:00</td>\n",
       "      <td>40.34</td>\n",
       "      <td>41.78</td>\n",
       "      <td>40.18</td>\n",
       "      <td>41.55</td>\n",
       "      <td>39223692</td>\n",
       "    </tr>\n",
       "    <tr>\n",
       "      <th>3</th>\n",
       "      <td>4/7/2015 16:00:00</td>\n",
       "      <td>41.61</td>\n",
       "      <td>41.91</td>\n",
       "      <td>41.31</td>\n",
       "      <td>41.53</td>\n",
       "      <td>28809375</td>\n",
       "    </tr>\n",
       "    <tr>\n",
       "      <th>4</th>\n",
       "      <td>4/8/2015 16:00:00</td>\n",
       "      <td>41.48</td>\n",
       "      <td>41.69</td>\n",
       "      <td>41.04</td>\n",
       "      <td>41.42</td>\n",
       "      <td>24753438</td>\n",
       "    </tr>\n",
       "  </tbody>\n",
       "</table>\n",
       "</div>"
      ],
      "text/plain": [
       "                Date   Open   High    Low  Close    Volume\n",
       "0  4/1/2015 16:00:00  40.60  40.76  40.31  40.72  36865322\n",
       "1  4/2/2015 16:00:00  40.66  40.74  40.12  40.29  37487476\n",
       "2  4/6/2015 16:00:00  40.34  41.78  40.18  41.55  39223692\n",
       "3  4/7/2015 16:00:00  41.61  41.91  41.31  41.53  28809375\n",
       "4  4/8/2015 16:00:00  41.48  41.69  41.04  41.42  24753438"
      ]
     },
     "execution_count": 42,
     "metadata": {},
     "output_type": "execute_result"
    }
   ],
   "source": [
    "df.head()"
   ]
  },
  {
   "cell_type": "code",
   "execution_count": 60,
   "metadata": {},
   "outputs": [
    {
     "name": "stdout",
     "output_type": "stream",
     "text": [
      "<class 'pandas.core.frame.DataFrame'>\n",
      "RangeIndex: 1511 entries, 0 to 1510\n",
      "Data columns (total 6 columns):\n",
      " #   Column  Non-Null Count  Dtype  \n",
      "---  ------  --------------  -----  \n",
      " 0   Date    1511 non-null   object \n",
      " 1   Open    1511 non-null   float64\n",
      " 2   High    1511 non-null   float64\n",
      " 3   Low     1511 non-null   float64\n",
      " 4   Close   1511 non-null   float64\n",
      " 5   Volume  1511 non-null   int64  \n",
      "dtypes: float64(4), int64(1), object(1)\n",
      "memory usage: 71.0+ KB\n"
     ]
    }
   ],
   "source": [
    "df.info()"
   ]
  },
  {
   "cell_type": "code",
   "execution_count": 61,
   "metadata": {},
   "outputs": [],
   "source": [
    "df.index = df.Date\n",
    "df.drop(['Date'],axis=1,inplace = True)"
   ]
  },
  {
   "cell_type": "code",
   "execution_count": 62,
   "metadata": {},
   "outputs": [
    {
     "data": {
      "text/html": [
       "<div>\n",
       "<style scoped>\n",
       "    .dataframe tbody tr th:only-of-type {\n",
       "        vertical-align: middle;\n",
       "    }\n",
       "\n",
       "    .dataframe tbody tr th {\n",
       "        vertical-align: top;\n",
       "    }\n",
       "\n",
       "    .dataframe thead th {\n",
       "        text-align: right;\n",
       "    }\n",
       "</style>\n",
       "<table border=\"1\" class=\"dataframe\">\n",
       "  <thead>\n",
       "    <tr style=\"text-align: right;\">\n",
       "      <th></th>\n",
       "      <th>Open</th>\n",
       "      <th>High</th>\n",
       "      <th>Low</th>\n",
       "      <th>Close</th>\n",
       "      <th>Volume</th>\n",
       "    </tr>\n",
       "    <tr>\n",
       "      <th>Date</th>\n",
       "      <th></th>\n",
       "      <th></th>\n",
       "      <th></th>\n",
       "      <th></th>\n",
       "      <th></th>\n",
       "    </tr>\n",
       "  </thead>\n",
       "  <tbody>\n",
       "    <tr>\n",
       "      <th>4/1/2015 16:00:00</th>\n",
       "      <td>40.60</td>\n",
       "      <td>40.76</td>\n",
       "      <td>40.31</td>\n",
       "      <td>40.72</td>\n",
       "      <td>36865322</td>\n",
       "    </tr>\n",
       "    <tr>\n",
       "      <th>4/2/2015 16:00:00</th>\n",
       "      <td>40.66</td>\n",
       "      <td>40.74</td>\n",
       "      <td>40.12</td>\n",
       "      <td>40.29</td>\n",
       "      <td>37487476</td>\n",
       "    </tr>\n",
       "    <tr>\n",
       "      <th>4/6/2015 16:00:00</th>\n",
       "      <td>40.34</td>\n",
       "      <td>41.78</td>\n",
       "      <td>40.18</td>\n",
       "      <td>41.55</td>\n",
       "      <td>39223692</td>\n",
       "    </tr>\n",
       "    <tr>\n",
       "      <th>4/7/2015 16:00:00</th>\n",
       "      <td>41.61</td>\n",
       "      <td>41.91</td>\n",
       "      <td>41.31</td>\n",
       "      <td>41.53</td>\n",
       "      <td>28809375</td>\n",
       "    </tr>\n",
       "    <tr>\n",
       "      <th>4/8/2015 16:00:00</th>\n",
       "      <td>41.48</td>\n",
       "      <td>41.69</td>\n",
       "      <td>41.04</td>\n",
       "      <td>41.42</td>\n",
       "      <td>24753438</td>\n",
       "    </tr>\n",
       "  </tbody>\n",
       "</table>\n",
       "</div>"
      ],
      "text/plain": [
       "                    Open   High    Low  Close    Volume\n",
       "Date                                                   \n",
       "4/1/2015 16:00:00  40.60  40.76  40.31  40.72  36865322\n",
       "4/2/2015 16:00:00  40.66  40.74  40.12  40.29  37487476\n",
       "4/6/2015 16:00:00  40.34  41.78  40.18  41.55  39223692\n",
       "4/7/2015 16:00:00  41.61  41.91  41.31  41.53  28809375\n",
       "4/8/2015 16:00:00  41.48  41.69  41.04  41.42  24753438"
      ]
     },
     "execution_count": 62,
     "metadata": {},
     "output_type": "execute_result"
    }
   ],
   "source": [
    "df.head()"
   ]
  },
  {
   "cell_type": "code",
   "execution_count": 63,
   "metadata": {},
   "outputs": [],
   "source": [
    "df['day'] = pd.to_datetime(df.index).dayofyear/366.0\n",
    "df['year'] = pd.to_datetime(df.index).year - 2015"
   ]
  },
  {
   "cell_type": "code",
   "execution_count": 65,
   "metadata": {},
   "outputs": [
    {
     "data": {
      "text/html": [
       "<div>\n",
       "<style scoped>\n",
       "    .dataframe tbody tr th:only-of-type {\n",
       "        vertical-align: middle;\n",
       "    }\n",
       "\n",
       "    .dataframe tbody tr th {\n",
       "        vertical-align: top;\n",
       "    }\n",
       "\n",
       "    .dataframe thead th {\n",
       "        text-align: right;\n",
       "    }\n",
       "</style>\n",
       "<table border=\"1\" class=\"dataframe\">\n",
       "  <thead>\n",
       "    <tr style=\"text-align: right;\">\n",
       "      <th></th>\n",
       "      <th>Open</th>\n",
       "      <th>High</th>\n",
       "      <th>Low</th>\n",
       "      <th>Close</th>\n",
       "      <th>Volume</th>\n",
       "      <th>day</th>\n",
       "      <th>year</th>\n",
       "    </tr>\n",
       "    <tr>\n",
       "      <th>Date</th>\n",
       "      <th></th>\n",
       "      <th></th>\n",
       "      <th></th>\n",
       "      <th></th>\n",
       "      <th></th>\n",
       "      <th></th>\n",
       "      <th></th>\n",
       "    </tr>\n",
       "  </thead>\n",
       "  <tbody>\n",
       "    <tr>\n",
       "      <th>4/1/2015 16:00:00</th>\n",
       "      <td>40.60</td>\n",
       "      <td>40.76</td>\n",
       "      <td>40.31</td>\n",
       "      <td>40.72</td>\n",
       "      <td>36865322</td>\n",
       "      <td>0.248634</td>\n",
       "      <td>0</td>\n",
       "    </tr>\n",
       "    <tr>\n",
       "      <th>4/2/2015 16:00:00</th>\n",
       "      <td>40.66</td>\n",
       "      <td>40.74</td>\n",
       "      <td>40.12</td>\n",
       "      <td>40.29</td>\n",
       "      <td>37487476</td>\n",
       "      <td>0.251366</td>\n",
       "      <td>0</td>\n",
       "    </tr>\n",
       "    <tr>\n",
       "      <th>4/6/2015 16:00:00</th>\n",
       "      <td>40.34</td>\n",
       "      <td>41.78</td>\n",
       "      <td>40.18</td>\n",
       "      <td>41.55</td>\n",
       "      <td>39223692</td>\n",
       "      <td>0.262295</td>\n",
       "      <td>0</td>\n",
       "    </tr>\n",
       "    <tr>\n",
       "      <th>4/7/2015 16:00:00</th>\n",
       "      <td>41.61</td>\n",
       "      <td>41.91</td>\n",
       "      <td>41.31</td>\n",
       "      <td>41.53</td>\n",
       "      <td>28809375</td>\n",
       "      <td>0.265027</td>\n",
       "      <td>0</td>\n",
       "    </tr>\n",
       "    <tr>\n",
       "      <th>4/8/2015 16:00:00</th>\n",
       "      <td>41.48</td>\n",
       "      <td>41.69</td>\n",
       "      <td>41.04</td>\n",
       "      <td>41.42</td>\n",
       "      <td>24753438</td>\n",
       "      <td>0.267760</td>\n",
       "      <td>0</td>\n",
       "    </tr>\n",
       "  </tbody>\n",
       "</table>\n",
       "</div>"
      ],
      "text/plain": [
       "                    Open   High    Low  Close    Volume       day  year\n",
       "Date                                                                   \n",
       "4/1/2015 16:00:00  40.60  40.76  40.31  40.72  36865322  0.248634     0\n",
       "4/2/2015 16:00:00  40.66  40.74  40.12  40.29  37487476  0.251366     0\n",
       "4/6/2015 16:00:00  40.34  41.78  40.18  41.55  39223692  0.262295     0\n",
       "4/7/2015 16:00:00  41.61  41.91  41.31  41.53  28809375  0.265027     0\n",
       "4/8/2015 16:00:00  41.48  41.69  41.04  41.42  24753438  0.267760     0"
      ]
     },
     "execution_count": 65,
     "metadata": {},
     "output_type": "execute_result"
    }
   ],
   "source": [
    "df.head()"
   ]
  },
  {
   "cell_type": "code",
   "execution_count": 45,
   "metadata": {},
   "outputs": [
    {
     "data": {
      "image/png": "[encoded data removed]",
      "text/plain": [
       "<Figure size 1152x360 with 1 Axes>"
      ]
     },
     "metadata": {
      "needs_background": "light"
     },
     "output_type": "display_data"
    }
   ],
   "source": [
    "df.plot( figsize = (16,5))\n",
    "plt.grid('On')\n",
    "plt.show()"
   ]
  },
  {
   "cell_type": "code",
   "execution_count": 72,
   "metadata": {},
   "outputs": [],
   "source": [
    "X = df[['day', 'year']]\n",
    "y = df.Close"
   ]
  },
  {
   "cell_type": "code",
   "execution_count": 73,
   "metadata": {},
   "outputs": [],
   "source": [
    "X_train, X_test, y_train, y_test = train_test_split(X, y, test_size=0.2, random_state=42)"
   ]
  },
  {
   "cell_type": "code",
   "execution_count": 74,
   "metadata": {},
   "outputs": [],
   "source": [
    "logdir = os.path.join(\"logs2\", datetime.datetime.now().strftime(\"%Y%m%d-%H%M%S\"))\n",
    "tensorboard_callback = TensorBoard( logdir, histogram_freq=1)"
   ]
  },
  {
   "cell_type": "code",
   "execution_count": 75,
   "metadata": {},
   "outputs": [
    {
     "data": {
      "text/plain": [
       "(1208, 2)"
      ]
     },
     "execution_count": 75,
     "metadata": {},
     "output_type": "execute_result"
    }
   ],
   "source": [
    "X_train.shape"
   ]
  },
  {
   "cell_type": "code",
   "execution_count": 82,
   "metadata": {},
   "outputs": [],
   "source": [
    "epochs=50"
   ]
  },
  {
   "cell_type": "code",
   "execution_count": 80,
   "metadata": {
    "scrolled": true
   },
   "outputs": [
    {
     "name": "stdout",
     "output_type": "stream",
     "text": [
      "Epoch 1/50\n",
      "38/38 [==============================] - 2s 14ms/step - loss: 14753.7314 - mae: 107.2355 - val_loss: 14355.2109 - val_mae: 106.5286\n",
      "Epoch 2/50\n",
      "38/38 [==============================] - 0s 3ms/step - loss: 14570.3594 - mae: 106.4625 - val_loss: 14107.3760 - val_mae: 105.4484\n",
      "Epoch 3/50\n",
      "38/38 [==============================] - 0s 3ms/step - loss: 14216.0029 - mae: 104.8748 - val_loss: 13638.6309 - val_mae: 103.2480\n",
      "Epoch 4/50\n",
      "38/38 [==============================] - 0s 3ms/step - loss: 13643.2061 - mae: 102.0865 - val_loss: 12994.1357 - val_mae: 99.9716\n",
      "Epoch 5/50\n",
      "38/38 [==============================] - 0s 3ms/step - loss: 12979.1387 - mae: 98.6209 - val_loss: 12354.2900 - val_mae: 96.4941\n",
      "Epoch 6/50\n",
      "38/38 [==============================] - 0s 3ms/step - loss: 12392.0029 - mae: 95.3419 - val_loss: 11830.9170 - val_mae: 93.4996\n",
      "Epoch 7/50\n",
      "38/38 [==============================] - 0s 3ms/step - loss: 11913.9160 - mae: 92.5536 - val_loss: 11393.6582 - val_mae: 90.9174\n",
      "Epoch 8/50\n",
      "38/38 [==============================] - 0s 3ms/step - loss: 11498.9375 - mae: 90.1117 - val_loss: 11005.7363 - val_mae: 88.5754\n",
      "Epoch 9/50\n",
      "38/38 [==============================] - 0s 3ms/step - loss: 11119.7217 - mae: 87.7918 - val_loss: 10640.1465 - val_mae: 86.3242\n",
      "Epoch 10/50\n",
      "38/38 [==============================] - 0s 3ms/step - loss: 10758.6455 - mae: 85.5316 - val_loss: 10281.2197 - val_mae: 84.0698\n",
      "Epoch 11/50\n",
      "38/38 [==============================] - 0s 3ms/step - loss: 10403.1660 - mae: 83.3246 - val_loss: 9939.2754 - val_mae: 81.8781\n",
      "Epoch 12/50\n",
      "38/38 [==============================] - 0s 3ms/step - loss: 10056.6895 - mae: 81.0930 - val_loss: 9596.9180 - val_mae: 79.6447\n",
      "Epoch 13/50\n",
      "38/38 [==============================] - 0s 3ms/step - loss: 9714.3008 - mae: 78.8497 - val_loss: 9257.5156 - val_mae: 77.4484\n",
      "Epoch 14/50\n",
      "38/38 [==============================] - 0s 3ms/step - loss: 9376.5303 - mae: 76.7000 - val_loss: 8924.0342 - val_mae: 75.3507\n",
      "Epoch 15/50\n",
      "38/38 [==============================] - 0s 3ms/step - loss: 9043.9043 - mae: 74.6392 - val_loss: 8600.1641 - val_mae: 73.3245\n",
      "Epoch 16/50\n",
      "38/38 [==============================] - 0s 3ms/step - loss: 8720.5195 - mae: 72.6276 - val_loss: 8280.7646 - val_mae: 71.3715\n",
      "Epoch 17/50\n",
      "38/38 [==============================] - 0s 3ms/step - loss: 8403.2314 - mae: 70.7610 - val_loss: 7973.6650 - val_mae: 69.5653\n",
      "Epoch 18/50\n",
      "38/38 [==============================] - 0s 3ms/step - loss: 8097.5557 - mae: 69.0074 - val_loss: 7671.8921 - val_mae: 67.8373\n",
      "Epoch 19/50\n",
      "38/38 [==============================] - 0s 3ms/step - loss: 7801.2842 - mae: 67.3632 - val_loss: 7381.8662 - val_mae: 66.1962\n",
      "Epoch 20/50\n",
      "38/38 [==============================] - 0s 3ms/step - loss: 7515.3213 - mae: 65.7947 - val_loss: 7109.3589 - val_mae: 64.6572\n",
      "Epoch 21/50\n",
      "38/38 [==============================] - 0s 3ms/step - loss: 7243.6045 - mae: 64.2470 - val_loss: 6846.6289 - val_mae: 63.1421\n",
      "Epoch 22/50\n",
      "38/38 [==============================] - 0s 3ms/step - loss: 6983.7158 - mae: 62.7967 - val_loss: 6596.5923 - val_mae: 61.7331\n",
      "Epoch 23/50\n",
      "38/38 [==============================] - 0s 3ms/step - loss: 6737.3706 - mae: 61.3924 - val_loss: 6356.5073 - val_mae: 60.3546\n",
      "Epoch 24/50\n",
      "38/38 [==============================] - 0s 3ms/step - loss: 6503.0039 - mae: 60.0654 - val_loss: 6131.7163 - val_mae: 59.0433\n",
      "Epoch 25/50\n",
      "38/38 [==============================] - 0s 3ms/step - loss: 6282.4028 - mae: 58.8078 - val_loss: 5918.6392 - val_mae: 57.8236\n",
      "Epoch 26/50\n",
      "38/38 [==============================] - 0s 3ms/step - loss: 6074.8740 - mae: 57.6332 - val_loss: 5717.7202 - val_mae: 56.6770\n",
      "Epoch 27/50\n",
      "38/38 [==============================] - 0s 3ms/step - loss: 5879.1479 - mae: 56.5125 - val_loss: 5531.4146 - val_mae: 55.6071\n",
      "Epoch 28/50\n",
      "38/38 [==============================] - 0s 3ms/step - loss: 5697.1084 - mae: 55.4452 - val_loss: 5353.8657 - val_mae: 54.5616\n",
      "Epoch 29/50\n",
      "38/38 [==============================] - 0s 3ms/step - loss: 5526.7314 - mae: 54.4696 - val_loss: 5189.2051 - val_mae: 53.5861\n",
      "Epoch 30/50\n",
      "38/38 [==============================] - 0s 3ms/step - loss: 5367.0474 - mae: 53.5654 - val_loss: 5039.0400 - val_mae: 52.7172\n",
      "Epoch 31/50\n",
      "38/38 [==============================] - 0s 3ms/step - loss: 5218.9023 - mae: 52.7669 - val_loss: 4899.6079 - val_mae: 51.9168\n",
      "Epoch 32/50\n",
      "38/38 [==============================] - 0s 3ms/step - loss: 5082.4224 - mae: 52.0514 - val_loss: 4764.2056 - val_mae: 51.1449\n",
      "Epoch 33/50\n",
      "38/38 [==============================] - 0s 3ms/step - loss: 4952.6450 - mae: 51.3824 - val_loss: 4644.1499 - val_mae: 50.4815\n",
      "Epoch 34/50\n",
      "38/38 [==============================] - 0s 3ms/step - loss: 4834.7949 - mae: 50.8408 - val_loss: 4529.0430 - val_mae: 49.8954\n",
      "Epoch 35/50\n",
      "38/38 [==============================] - 0s 3ms/step - loss: 4724.6812 - mae: 50.3675 - val_loss: 4425.2852 - val_mae: 49.4260\n",
      "Epoch 36/50\n",
      "38/38 [==============================] - 0s 3ms/step - loss: 4624.0718 - mae: 49.9613 - val_loss: 4329.5908 - val_mae: 49.0059\n",
      "Epoch 37/50\n",
      "38/38 [==============================] - 0s 3ms/step - loss: 4531.5508 - mae: 49.6142 - val_loss: 4239.1318 - val_mae: 48.6489\n",
      "Epoch 38/50\n",
      "38/38 [==============================] - 0s 3ms/step - loss: 4445.0825 - mae: 49.3157 - val_loss: 4158.5488 - val_mae: 48.3470\n",
      "Epoch 39/50\n",
      "38/38 [==============================] - 0s 3ms/step - loss: 4366.0083 - mae: 49.0290 - val_loss: 4086.3450 - val_mae: 48.0724\n",
      "Epoch 40/50\n",
      "38/38 [==============================] - 0s 3ms/step - loss: 4294.4771 - mae: 48.7976 - val_loss: 4016.2607 - val_mae: 47.8070\n",
      "Epoch 41/50\n",
      "38/38 [==============================] - 0s 3ms/step - loss: 4227.9932 - mae: 48.5884 - val_loss: 3952.8799 - val_mae: 47.5740\n",
      "Epoch 42/50\n",
      "38/38 [==============================] - 0s 3ms/step - loss: 4167.7905 - mae: 48.4114 - val_loss: 3894.2786 - val_mae: 47.3608\n",
      "Epoch 43/50\n",
      "38/38 [==============================] - 0s 3ms/step - loss: 4111.4478 - mae: 48.2211 - val_loss: 3843.4963 - val_mae: 47.1735\n",
      "Epoch 44/50\n",
      "38/38 [==============================] - 0s 3ms/step - loss: 4061.1719 - mae: 48.0493 - val_loss: 3795.9233 - val_mae: 46.9984\n",
      "Epoch 45/50\n",
      "38/38 [==============================] - 0s 3ms/step - loss: 4015.6772 - mae: 47.9259 - val_loss: 3750.7253 - val_mae: 46.8542\n",
      "Epoch 46/50\n",
      "38/38 [==============================] - 0s 3ms/step - loss: 3973.1851 - mae: 47.8311 - val_loss: 3712.1543 - val_mae: 46.7824\n",
      "Epoch 47/50\n",
      "38/38 [==============================] - 0s 3ms/step - loss: 3935.4900 - mae: 47.7895 - val_loss: 3676.2812 - val_mae: 46.7695\n",
      "Epoch 48/50\n",
      "38/38 [==============================] - 0s 3ms/step - loss: 3900.7280 - mae: 47.8025 - val_loss: 3644.0413 - val_mae: 46.7932\n",
      "Epoch 49/50\n",
      "38/38 [==============================] - 0s 3ms/step - loss: 3869.7732 - mae: 47.8436 - val_loss: 3614.0168 - val_mae: 46.8340\n"
     ]
    },
    {
     "data": {
      "image/png": "[encoded data removed]",
      "text/plain": [
       "<Figure size 432x288 with 1 Axes>"
      ]
     },
     "metadata": {
      "needs_background": "light"
     },
     "output_type": "display_data"
    }
   ],
   "source": [
    "callbaсk = EarlyStopping(monitor='val_mae', patience=2)\n",
    "\n",
    "model = Sequential()\n",
    "\n",
    "model.add(LSTM(64, return_sequences=\"True\", input_shape=(None, 1)))\n",
    "model.add(Dense(1, activation=\"linear\"))\n",
    "\n",
    "model.compile(loss=\"mse\", optimizer=\"adam\", metrics=['mae'])\n",
    "\n",
    "history = model.fit(\n",
    "    X_train,\n",
    "    y_train,\n",
    "    epochs=epochs,\n",
    "    validation_data=(X_test, y_test),\n",
    "    callbacks=[callbaсk, tensorboard_callback])\n",
    "\n",
    "\n",
    "plt.plot(history.history['mae'][1:], \n",
    "         label='Средняя абсолютная ошибка на обучающем наборе')\n",
    "plt.plot(history.history['val_mae'][1:], \n",
    "         label='Средняя абсолютная ошибка на проверочном наборе')\n",
    "plt.ylabel('Средняя ошибка')\n",
    "plt.legend()\n",
    "plt.show()"
   ]
  },
  {
   "cell_type": "markdown",
   "metadata": {},
   "source": [
    "#### Изменение слоёв"
   ]
  },
  {
   "cell_type": "code",
   "execution_count": 92,
   "metadata": {},
   "outputs": [
    {
     "name": "stdout",
     "output_type": "stream",
     "text": [
      "Epoch 1/50\n",
      "38/38 [==============================] - 4s 24ms/step - loss: 14536.6553 - mae: 106.2884 - val_loss: 13410.1191 - val_mae: 102.3467\n",
      "Epoch 2/50\n",
      "38/38 [==============================] - 0s 5ms/step - loss: 10854.1816 - mae: 86.0218 - val_loss: 7246.6533 - val_mae: 66.6034\n",
      "Epoch 3/50\n",
      "38/38 [==============================] - 0s 5ms/step - loss: 6503.8408 - mae: 64.1305 - val_loss: 5655.6089 - val_mae: 60.4313\n",
      "Epoch 4/50\n",
      "38/38 [==============================] - 0s 5ms/step - loss: 5334.9463 - mae: 57.4575 - val_loss: 4402.5684 - val_mae: 51.5288\n",
      "Epoch 5/50\n",
      "38/38 [==============================] - 0s 5ms/step - loss: 3458.7937 - mae: 42.8387 - val_loss: 2279.1194 - val_mae: 35.6940\n",
      "Epoch 6/50\n",
      "38/38 [==============================] - 0s 5ms/step - loss: 2249.9617 - mae: 36.2489 - val_loss: 2038.1917 - val_mae: 34.8975\n",
      "Epoch 7/50\n",
      "38/38 [==============================] - 0s 5ms/step - loss: 2130.7439 - mae: 35.2374 - val_loss: 1968.5942 - val_mae: 33.9151\n",
      "Epoch 8/50\n",
      "38/38 [==============================] - 0s 5ms/step - loss: 2081.5781 - mae: 34.6466 - val_loss: 1918.2434 - val_mae: 33.1756\n",
      "Epoch 9/50\n",
      "38/38 [==============================] - 0s 5ms/step - loss: 2039.7889 - mae: 33.8771 - val_loss: 1883.2338 - val_mae: 32.7717\n",
      "Epoch 10/50\n",
      "38/38 [==============================] - 0s 5ms/step - loss: 2006.2891 - mae: 33.3567 - val_loss: 1853.4877 - val_mae: 32.0527\n",
      "Epoch 11/50\n",
      "38/38 [==============================] - 0s 5ms/step - loss: 1986.5289 - mae: 33.2177 - val_loss: 1827.8735 - val_mae: 31.9938\n",
      "Epoch 12/50\n",
      "38/38 [==============================] - 0s 5ms/step - loss: 1948.5265 - mae: 32.5586 - val_loss: 1805.2963 - val_mae: 31.4682\n",
      "Epoch 13/50\n",
      "38/38 [==============================] - 0s 5ms/step - loss: 1922.5950 - mae: 32.1392 - val_loss: 1778.2051 - val_mae: 30.9837\n",
      "Epoch 14/50\n",
      "38/38 [==============================] - 0s 5ms/step - loss: 1898.5208 - mae: 31.4818 - val_loss: 1769.6573 - val_mae: 30.9051\n",
      "Epoch 15/50\n",
      "38/38 [==============================] - 0s 5ms/step - loss: 1872.7988 - mae: 31.2373 - val_loss: 1728.1221 - val_mae: 29.9190\n",
      "Epoch 16/50\n",
      "38/38 [==============================] - 0s 5ms/step - loss: 1843.8696 - mae: 30.5405 - val_loss: 1702.9591 - val_mae: 29.2698\n",
      "Epoch 17/50\n",
      "38/38 [==============================] - 0s 5ms/step - loss: 1819.9309 - mae: 29.9189 - val_loss: 1681.3989 - val_mae: 28.7328\n",
      "Epoch 18/50\n",
      "38/38 [==============================] - 0s 5ms/step - loss: 1793.5306 - mae: 29.2339 - val_loss: 1661.7646 - val_mae: 28.2086\n",
      "Epoch 19/50\n",
      "38/38 [==============================] - 0s 5ms/step - loss: 1781.1151 - mae: 28.8950 - val_loss: 1642.5621 - val_mae: 27.4678\n",
      "Epoch 20/50\n",
      "38/38 [==============================] - 0s 5ms/step - loss: 1763.9381 - mae: 28.5469 - val_loss: 1628.8977 - val_mae: 27.3630\n",
      "Epoch 21/50\n",
      "38/38 [==============================] - 0s 5ms/step - loss: 1749.5830 - mae: 27.9966 - val_loss: 1632.5017 - val_mae: 27.7954\n",
      "Epoch 22/50\n",
      "38/38 [==============================] - 0s 5ms/step - loss: 1744.0503 - mae: 28.0277 - val_loss: 1613.3900 - val_mae: 27.1891\n",
      "Epoch 23/50\n",
      "38/38 [==============================] - 0s 5ms/step - loss: 1732.0143 - mae: 27.8849 - val_loss: 1606.6439 - val_mae: 27.1377\n",
      "Epoch 24/50\n",
      "38/38 [==============================] - 0s 5ms/step - loss: 1728.2114 - mae: 27.7231 - val_loss: 1602.1473 - val_mae: 27.0761\n",
      "Epoch 25/50\n",
      "38/38 [==============================] - 0s 5ms/step - loss: 1722.3811 - mae: 27.6552 - val_loss: 1597.2623 - val_mae: 27.0106\n",
      "Epoch 26/50\n",
      "38/38 [==============================] - 0s 5ms/step - loss: 1715.2585 - mae: 27.7130 - val_loss: 1591.4147 - val_mae: 26.7628\n",
      "Epoch 27/50\n",
      "38/38 [==============================] - 0s 5ms/step - loss: 1712.5176 - mae: 27.4056 - val_loss: 1585.9023 - val_mae: 26.6415\n",
      "Epoch 28/50\n",
      "38/38 [==============================] - 0s 5ms/step - loss: 1706.4766 - mae: 27.4469 - val_loss: 1586.0801 - val_mae: 26.4882\n",
      "Epoch 29/50\n",
      "38/38 [==============================] - 0s 5ms/step - loss: 1706.5820 - mae: 27.2678 - val_loss: 1582.7451 - val_mae: 26.3965\n",
      "Epoch 30/50\n",
      "38/38 [==============================] - 0s 5ms/step - loss: 1699.1403 - mae: 27.0808 - val_loss: 1575.1688 - val_mae: 26.3783\n",
      "Epoch 31/50\n",
      "38/38 [==============================] - 0s 5ms/step - loss: 1691.4154 - mae: 26.9418 - val_loss: 1573.5480 - val_mae: 26.3841\n",
      "Epoch 32/50\n",
      "38/38 [==============================] - 0s 5ms/step - loss: 1703.9672 - mae: 27.2490 - val_loss: 1567.2444 - val_mae: 26.2387\n",
      "Epoch 33/50\n",
      "38/38 [==============================] - 0s 5ms/step - loss: 1685.5797 - mae: 26.7834 - val_loss: 1563.4265 - val_mae: 26.0048\n",
      "Epoch 34/50\n",
      "38/38 [==============================] - 0s 5ms/step - loss: 1682.2288 - mae: 26.7671 - val_loss: 1560.2961 - val_mae: 25.8648\n",
      "Epoch 35/50\n",
      "38/38 [==============================] - 0s 5ms/step - loss: 1679.2938 - mae: 26.5406 - val_loss: 1565.0581 - val_mae: 26.0715\n",
      "Epoch 36/50\n",
      "38/38 [==============================] - 0s 5ms/step - loss: 1673.0765 - mae: 26.6627 - val_loss: 1558.7518 - val_mae: 25.6208\n",
      "Epoch 37/50\n",
      "38/38 [==============================] - 0s 5ms/step - loss: 1676.4316 - mae: 26.3831 - val_loss: 1552.8534 - val_mae: 25.6658\n",
      "Epoch 38/50\n",
      "38/38 [==============================] - 0s 5ms/step - loss: 1672.5797 - mae: 26.4775 - val_loss: 1551.6425 - val_mae: 25.4513\n",
      "Epoch 39/50\n",
      "38/38 [==============================] - 0s 5ms/step - loss: 1667.0386 - mae: 26.1650 - val_loss: 1546.6040 - val_mae: 25.4304\n",
      "Epoch 40/50\n",
      "38/38 [==============================] - 0s 5ms/step - loss: 1663.0934 - mae: 26.2595 - val_loss: 1544.7697 - val_mae: 25.4759\n",
      "Epoch 41/50\n",
      "38/38 [==============================] - 0s 5ms/step - loss: 1663.9569 - mae: 26.1949 - val_loss: 1547.0844 - val_mae: 25.5280\n"
     ]
    },
    {
     "data": {
      "image/png": "[encoded data removed]",
      "text/plain": [
       "<Figure size 432x288 with 1 Axes>"
      ]
     },
     "metadata": {
      "needs_background": "light"
     },
     "output_type": "display_data"
    }
   ],
   "source": [
    "callbaсk = EarlyStopping(monitor='val_mae', patience=2)\n",
    "\n",
    "model = Sequential()\n",
    "\n",
    "model.add(LSTM(64, input_shape = (None, 1), return_sequences=\"True\"))\n",
    "model.add(LSTM(64, return_sequences=\"True\"))\n",
    "model.add(Conv1D(64, 1, activation=\"linear\"))\n",
    "\n",
    "model.add(Dense(1, activation=\"linear\"))\n",
    "\n",
    "model.compile(loss=\"mse\", optimizer=\"adam\", metrics=['mae'])\n",
    "\n",
    "history = model.fit(\n",
    "    X_train,\n",
    "    y_train,\n",
    "    epochs=epochs,\n",
    "    validation_data=(X_test, y_test),\n",
    "    callbacks=[callbaсk, tensorboard_callback])\n",
    "\n",
    "\n",
    "plt.plot(history.history['mae'][1:], \n",
    "         label='Средняя абсолютная ошибка на обучающем наборе')\n",
    "plt.plot(history.history['val_mae'][1:], \n",
    "         label='Средняя абсолютная ошибка на проверочном наборе')\n",
    "plt.ylabel('Средняя ошибка')\n",
    "plt.legend()\n",
    "plt.show()"
   ]
  },
  {
   "cell_type": "markdown",
   "metadata": {},
   "source": [
    "#### Препроцессинг"
   ]
  },
  {
   "cell_type": "code",
   "execution_count": 124,
   "metadata": {},
   "outputs": [],
   "source": [
    "# длина теста\n",
    "valLen = 100\n",
    "# длина истории для работы\n",
    "xLen = 14\n",
    "# отступ тестов от тренировок\n",
    "bias = 10\n",
    "\n",
    "# шаг по данным для построения обучающих примеров\n",
    "step = 1\n",
    "\n",
    "# длина прошлого \n",
    "past = xLen\n",
    "p = past\n",
    "# горизонт предсказания\n",
    "future = 1\n",
    "h=future\n",
    "\n",
    "# параметры модели для обучения\n",
    "learning_rate = 0.001\n",
    "batch_size = 32\n",
    "\n",
    "train_split = int(df.shape[0] * 0.8)\n",
    "\n",
    "channelIndexes = [4, 5, 6]\n",
    "\n",
    "train_data = df.iloc[0 : train_split ,channelIndexes]\n",
    "val_data = df.iloc[train_split+bias:,channelIndexes]"
   ]
  },
  {
   "cell_type": "code",
   "execution_count": 125,
   "metadata": {},
   "outputs": [
    {
     "data": {
      "text/html": [
       "<div>\n",
       "<style scoped>\n",
       "    .dataframe tbody tr th:only-of-type {\n",
       "        vertical-align: middle;\n",
       "    }\n",
       "\n",
       "    .dataframe tbody tr th {\n",
       "        vertical-align: top;\n",
       "    }\n",
       "\n",
       "    .dataframe thead th {\n",
       "        text-align: right;\n",
       "    }\n",
       "</style>\n",
       "<table border=\"1\" class=\"dataframe\">\n",
       "  <thead>\n",
       "    <tr style=\"text-align: right;\">\n",
       "      <th></th>\n",
       "      <th>Volume</th>\n",
       "      <th>day</th>\n",
       "      <th>year</th>\n",
       "    </tr>\n",
       "    <tr>\n",
       "      <th>Date</th>\n",
       "      <th></th>\n",
       "      <th></th>\n",
       "      <th></th>\n",
       "    </tr>\n",
       "  </thead>\n",
       "  <tbody>\n",
       "    <tr>\n",
       "      <th>4/1/2015 16:00:00</th>\n",
       "      <td>36865322</td>\n",
       "      <td>0.248634</td>\n",
       "      <td>0</td>\n",
       "    </tr>\n",
       "    <tr>\n",
       "      <th>4/2/2015 16:00:00</th>\n",
       "      <td>37487476</td>\n",
       "      <td>0.251366</td>\n",
       "      <td>0</td>\n",
       "    </tr>\n",
       "    <tr>\n",
       "      <th>4/6/2015 16:00:00</th>\n",
       "      <td>39223692</td>\n",
       "      <td>0.262295</td>\n",
       "      <td>0</td>\n",
       "    </tr>\n",
       "    <tr>\n",
       "      <th>4/7/2015 16:00:00</th>\n",
       "      <td>28809375</td>\n",
       "      <td>0.265027</td>\n",
       "      <td>0</td>\n",
       "    </tr>\n",
       "    <tr>\n",
       "      <th>4/8/2015 16:00:00</th>\n",
       "      <td>24753438</td>\n",
       "      <td>0.267760</td>\n",
       "      <td>0</td>\n",
       "    </tr>\n",
       "  </tbody>\n",
       "</table>\n",
       "</div>"
      ],
      "text/plain": [
       "                     Volume       day  year\n",
       "Date                                       \n",
       "4/1/2015 16:00:00  36865322  0.248634     0\n",
       "4/2/2015 16:00:00  37487476  0.251366     0\n",
       "4/6/2015 16:00:00  39223692  0.262295     0\n",
       "4/7/2015 16:00:00  28809375  0.265027     0\n",
       "4/8/2015 16:00:00  24753438  0.267760     0"
      ]
     },
     "execution_count": 125,
     "metadata": {},
     "output_type": "execute_result"
    }
   ],
   "source": [
    "train_data.head()"
   ]
  },
  {
   "cell_type": "code",
   "execution_count": 126,
   "metadata": {},
   "outputs": [],
   "source": [
    "Chanel_numb = len(channelIndexes)\n",
    "\n",
    "start = xLen + future\n",
    "end = start + train_split-1\n",
    "\n",
    "xTrain_df = train_data.iloc[:-future-xLen+1,:] # сдвиг по времени для предсказания (закончить чуть раньше)\n",
    "xTrain = xTrain_df[[train_data.columns[i] for i in range(Chanel_numb)]].values\n",
    "yTrain = train_data.iloc[future+xLen-1:,0].values  # сдвиг по времени для предсказания (начать чуть позднее)\n",
    "\n",
    "sequence_length = int(xLen / step)\n",
    "\n",
    "\n",
    "x_end = len(val_data) - xLen - future \n",
    "\n",
    "label_start = len(train_data)+bias+xLen + future +1\n",
    "\n",
    "xVal_df = val_data.iloc[:-future-xLen+1,:] # сдвиг по времени для предсказания (закончить чуть раньше)\n",
    "xVal = xVal_df[[val_data.columns[i] for i in range(Chanel_numb)]].values\n",
    "yVal = val_data.iloc[future+xLen-1:,0].values  # сдвиг по времени для предсказания (начать чуть позднее)"
   ]
  },
  {
   "cell_type": "code",
   "execution_count": 127,
   "metadata": {},
   "outputs": [
    {
     "data": {
      "text/plain": [
       "(1194,)"
      ]
     },
     "execution_count": 127,
     "metadata": {},
     "output_type": "execute_result"
    }
   ],
   "source": [
    "yTrain.shape"
   ]
  },
  {
   "cell_type": "code",
   "execution_count": 128,
   "metadata": {},
   "outputs": [
    {
     "name": "stdout",
     "output_type": "stream",
     "text": [
      "(1194, 3)\n",
      "(1194,)\n",
      "(279, 3)\n",
      "(279,)\n"
     ]
    }
   ],
   "source": [
    "print(xTrain.shape)\n",
    "print(yTrain.shape)\n",
    "print(xVal.shape)\n",
    "print(yVal.shape)"
   ]
  },
  {
   "cell_type": "code",
   "execution_count": 129,
   "metadata": {},
   "outputs": [
    {
     "data": {
      "image/png": "[encoded data removed]",
      "text/plain": [
       "<Figure size 720x360 with 1 Axes>"
      ]
     },
     "metadata": {
      "needs_background": "light"
     },
     "output_type": "display_data"
    }
   ],
   "source": [
    "plt.figure(figsize=(10,5))\n",
    "plt.plot(df.index[xLen:yTrain.shape[0]+xLen],yTrain[:])\n",
    "plt.plot(df.index[yTrain.shape[0]+bias+future+2*xLen-1:],yVal[:])\n",
    "plt.grid('on')\n",
    "plt.show()"
   ]
  },
  {
   "cell_type": "code",
   "execution_count": 130,
   "metadata": {},
   "outputs": [],
   "source": [
    "dataset_train = keras.preprocessing.timeseries_dataset_from_array(\n",
    "    xTrain,\n",
    "    yTrain,\n",
    "    sequence_length=xLen,\n",
    "    sampling_rate=1,\n",
    "    batch_size=batch_size,\n",
    ")\n",
    "dataset_val = keras.preprocessing.timeseries_dataset_from_array(\n",
    "    xVal,\n",
    "    yVal,\n",
    "    sequence_length=xLen,\n",
    "    sampling_rate=1,\n",
    "    batch_size=batch_size,\n",
    ")"
   ]
  },
  {
   "cell_type": "code",
   "execution_count": 131,
   "metadata": {},
   "outputs": [
    {
     "name": "stdout",
     "output_type": "stream",
     "text": [
      "Input shape: (32, 14, 3)\n",
      "Target shape: (32,)\n"
     ]
    }
   ],
   "source": [
    "for batch in dataset_val.take(2):\n",
    "    inputs, targets = batch\n",
    "\n",
    "print(\"Input shape:\", inputs.numpy().shape)\n",
    "print(\"Target shape:\", targets.numpy().shape)"
   ]
  },
  {
   "cell_type": "code",
   "execution_count": 132,
   "metadata": {},
   "outputs": [],
   "source": [
    "logdir = os.path.join(\"logs2\", datetime.datetime.now().strftime(\"%Y%m%d-%H%M%S\"))\n",
    "tensorboard_callback = TensorBoard( logdir, histogram_freq=1)"
   ]
  },
  {
   "cell_type": "code",
   "execution_count": 133,
   "metadata": {},
   "outputs": [
    {
     "name": "stdout",
     "output_type": "stream",
     "text": [
      "Epoch 1/50\n",
      "37/37 [==============================] - 4s 34ms/step - loss: 996015935062016.0000 - mae: 28587108.0000 - val_loss: 1672012246286336.0000 - val_mae: 37309336.0000\n",
      "Epoch 2/50\n",
      "37/37 [==============================] - 1s 15ms/step - loss: 995928760647680.0000 - mae: 28585516.0000 - val_loss: 1671794947784704.0000 - val_mae: 37306420.0000\n",
      "Epoch 3/50\n",
      "37/37 [==============================] - 1s 15ms/step - loss: 995674082508800.0000 - mae: 28580968.0000 - val_loss: 1671315924713472.0000 - val_mae: 37300008.0000\n",
      "Epoch 4/50\n",
      "37/37 [==============================] - 1s 15ms/step - loss: 995191771103232.0000 - mae: 28572398.0000 - val_loss: 1670499209838592.0000 - val_mae: 37289064.0000\n",
      "Epoch 5/50\n",
      "37/37 [==============================] - 1s 14ms/step - loss: 994423777263616.0000 - mae: 28558810.0000 - val_loss: 1669270714974208.0000 - val_mae: 37272584.0000\n",
      "Epoch 6/50\n",
      "37/37 [==============================] - 1s 15ms/step - loss: 993315071721472.0000 - mae: 28539202.0000 - val_loss: 1667558230982656.0000 - val_mae: 37249608.0000\n",
      "Epoch 7/50\n",
      "37/37 [==============================] - 1s 16ms/step - loss: 991811027861504.0000 - mae: 28512626.0000 - val_loss: 1665293709475840.0000 - val_mae: 37219188.0000\n",
      "Epoch 8/50\n",
      "37/37 [==============================] - 1s 16ms/step - loss: 989860508729344.0000 - mae: 28478208.0000 - val_loss: 1662409236283392.0000 - val_mae: 37180424.0000\n",
      "Epoch 9/50\n",
      "37/37 [==============================] - 1s 14ms/step - loss: 987413719547904.0000 - mae: 28435032.0000 - val_loss: 1658841863290880.0000 - val_mae: 37132428.0000\n",
      "Epoch 10/50\n",
      "37/37 [==============================] - 1s 15ms/step - loss: 984423818330112.0000 - mae: 28382222.0000 - val_loss: 1654531460956160.0000 - val_mae: 37074328.0000\n",
      "Epoch 11/50\n",
      "37/37 [==============================] - 1s 16ms/step - loss: 980846177681408.0000 - mae: 28318928.0000 - val_loss: 1649420584091648.0000 - val_mae: 37005344.0000\n",
      "Epoch 12/50\n",
      "37/37 [==============================] - 1s 14ms/step - loss: 976640532283392.0000 - mae: 28244366.0000 - val_loss: 1643457424654336.0000 - val_mae: 36924680.0000\n",
      "Epoch 13/50\n",
      "37/37 [==============================] - 1s 16ms/step - loss: 971768630083584.0000 - mae: 28157788.0000 - val_loss: 1636592724738048.0000 - val_mae: 36831608.0000\n",
      "Epoch 14/50\n",
      "37/37 [==============================] - 1s 15ms/step - loss: 966197856174080.0000 - mae: 28058480.0000 - val_loss: 1628783937323008.0000 - val_mae: 36725448.0000\n",
      "Epoch 15/50\n",
      "37/37 [==============================] - 1s 14ms/step - loss: 959897810239488.0000 - mae: 27945786.0000 - val_loss: 1619992139268096.0000 - val_mae: 36605560.0000\n",
      "Epoch 16/50\n",
      "37/37 [==============================] - 1s 14ms/step - loss: 952843863326720.0000 - mae: 27819078.0000 - val_loss: 1610184178794496.0000 - val_mae: 36471348.0000\n",
      "Epoch 17/50\n",
      "37/37 [==============================] - 1s 14ms/step - loss: 945014741925888.0000 - mae: 27677806.0000 - val_loss: 1599332407050240.0000 - val_mae: 36322264.0000\n",
      "Epoch 18/50\n",
      "37/37 [==============================] - 1s 14ms/step - loss: 936394474127360.0000 - mae: 27521450.0000 - val_loss: 1587414275457024.0000 - val_mae: 36157832.0000\n",
      "Epoch 19/50\n",
      "37/37 [==============================] - 1s 15ms/step - loss: 926971450097664.0000 - mae: 27349534.0000 - val_loss: 1574413006798848.0000 - val_mae: 35977596.0000\n",
      "Epoch 20/50\n",
      "37/37 [==============================] - 1s 15ms/step - loss: 916739495821312.0000 - mae: 27161646.0000 - val_loss: 1560318132092928.0000 - val_mae: 35781180.0000\n",
      "Epoch 21/50\n",
      "37/37 [==============================] - 1s 18ms/step - loss: 905696396705792.0000 - mae: 26957424.0000 - val_loss: 1545124819501056.0000 - val_mae: 35568236.0000\n",
      "Epoch 22/50\n",
      "37/37 [==============================] - 1s 17ms/step - loss: 893846179282944.0000 - mae: 26736568.0000 - val_loss: 1528834545418240.0000 - val_mae: 35338496.0000\n",
      "Epoch 23/50\n",
      "37/37 [==============================] - 1s 17ms/step - loss: 881197232160768.0000 - mae: 26498806.0000 - val_loss: 1511454154948608.0000 - val_mae: 35091720.0000\n",
      "Epoch 24/50\n",
      "37/37 [==============================] - 1s 16ms/step - loss: 867763178438656.0000 - mae: 26243954.0000 - val_loss: 1492997204082688.0000 - val_mae: 34827744.0000\n",
      "Epoch 25/50\n",
      "37/37 [==============================] - 1s 16ms/step - loss: 853562338836480.0000 - mae: 25971864.0000 - val_loss: 1473482751737856.0000 - val_mae: 34546456.0000\n",
      "Epoch 26/50\n",
      "37/37 [==============================] - 1s 16ms/step - loss: 838619006763008.0000 - mae: 25682454.0000 - val_loss: 1452936567717888.0000 - val_mae: 34247788.0000\n",
      "Epoch 27/50\n",
      "37/37 [==============================] - 1s 17ms/step - loss: 822961502158848.0000 - mae: 25375678.0000 - val_loss: 1431389522100224.0000 - val_mae: 33931756.0000\n",
      "Epoch 28/50\n",
      "37/37 [==============================] - 1s 16ms/step - loss: 806623312347136.0000 - mae: 25051578.0000 - val_loss: 1408878256324608.0000 - val_mae: 33598412.0000\n",
      "Epoch 29/50\n",
      "37/37 [==============================] - 1s 17ms/step - loss: 789642286727168.0000 - mae: 24710244.0000 - val_loss: 1385446122717184.0000 - val_mae: 33247872.0000\n",
      "Epoch 30/50\n",
      "37/37 [==============================] - 1s 16ms/step - loss: 772060972318720.0000 - mae: 24351818.0000 - val_loss: 1361140097482752.0000 - val_mae: 32880308.0000\n",
      "Epoch 31/50\n",
      "37/37 [==============================] - 1s 16ms/step - loss: 753926144000000.0000 - mae: 23976502.0000 - val_loss: 1336013330841600.0000 - val_mae: 32495966.0000\n",
      "Epoch 32/50\n",
      "37/37 [==============================] - 1s 16ms/step - loss: 735288334745600.0000 - mae: 23584568.0000 - val_loss: 1310123804852224.0000 - val_mae: 32095148.0000\n",
      "Epoch 33/50\n",
      "37/37 [==============================] - 1s 16ms/step - loss: 716201902735360.0000 - mae: 23176338.0000 - val_loss: 1283533930758144.0000 - val_mae: 31678206.0000\n",
      "Epoch 34/50\n",
      "37/37 [==============================] - 1s 16ms/step - loss: 696724293156864.0000 - mae: 22752208.0000 - val_loss: 1256310414770176.0000 - val_mae: 31245560.0000\n",
      "Epoch 35/50\n",
      "37/37 [==============================] - 1s 16ms/step - loss: 676916373749760.0000 - mae: 22312620.0000 - val_loss: 1228523318542336.0000 - val_mae: 30797696.0000\n",
      "Epoch 36/50\n",
      "37/37 [==============================] - 1s 19ms/step - loss: 656841293955072.0000 - mae: 21858090.0000 - val_loss: 1200246864478208.0000 - val_mae: 30335156.0000\n",
      "Epoch 37/50\n",
      "37/37 [==============================] - 1s 16ms/step - loss: 636564015153152.0000 - mae: 21389188.0000 - val_loss: 1171557959335936.0000 - val_mae: 29858542.0000\n",
      "Epoch 38/50\n",
      "37/37 [==============================] - 1s 16ms/step - loss: 616151981752320.0000 - mae: 20907054.0000 - val_loss: 1142535925792768.0000 - val_mae: 29368530.0000\n",
      "Epoch 39/50\n",
      "37/37 [==============================] - 1s 16ms/step - loss: 595673175031808.0000 - mae: 20412214.0000 - val_loss: 1113262368227328.0000 - val_mae: 28865848.0000\n",
      "Epoch 40/50\n",
      "37/37 [==============================] - 1s 16ms/step - loss: 575196582903808.0000 - mae: 19905470.0000 - val_loss: 1083820233195520.0000 - val_mae: 28351280.0000\n",
      "Epoch 41/50\n",
      "37/37 [==============================] - 1s 15ms/step - loss: 554791595933696.0000 - mae: 19388628.0000 - val_loss: 1054293205450752.0000 - val_mae: 27825674.0000\n",
      "Epoch 42/50\n",
      "37/37 [==============================] - 1s 16ms/step - loss: 534527034261504.0000 - mae: 18862196.0000 - val_loss: 1024766513250304.0000 - val_mae: 27289948.0000\n",
      "Epoch 43/50\n",
      "37/37 [==============================] - 1s 16ms/step - loss: 514470610731008.0000 - mae: 18327832.0000 - val_loss: 995323774238720.0000 - val_mae: 26745172.0000\n",
      "Epoch 44/50\n",
      "37/37 [==============================] - 1s 15ms/step - loss: 494689165770752.0000 - mae: 17786460.0000 - val_loss: 966048807387136.0000 - val_mae: 26196314.0000\n",
      "Epoch 45/50\n",
      "37/37 [==============================] - 1s 15ms/step - loss: 475247157444608.0000 - mae: 17239026.0000 - val_loss: 937023821053952.0000 - val_mae: 25640458.0000\n",
      "Epoch 46/50\n",
      "37/37 [==============================] - 1s 17ms/step - loss: 456206762115072.0000 - mae: 16687596.0000 - val_loss: 908328876113920.0000 - val_mae: 25078716.0000\n",
      "Epoch 47/50\n",
      "37/37 [==============================] - 1s 16ms/step - loss: 437626800701440.0000 - mae: 16133315.0000 - val_loss: 880041885958144.0000 - val_mae: 24512262.0000\n"
     ]
    },
    {
     "name": "stdout",
     "output_type": "stream",
     "text": [
      "Epoch 48/50\n",
      "37/37 [==============================] - 1s 17ms/step - loss: 419562839343104.0000 - mae: 15577522.0000 - val_loss: 852237542752256.0000 - val_mae: 23942304.0000\n",
      "Epoch 49/50\n",
      "37/37 [==============================] - 1s 15ms/step - loss: 402065847222272.0000 - mae: 15023362.0000 - val_loss: 824987250327552.0000 - val_mae: 23370094.0000\n",
      "Epoch 50/50\n",
      "37/37 [==============================] - 1s 15ms/step - loss: 385182834098176.0000 - mae: 14477048.0000 - val_loss: 798357379350528.0000 - val_mae: 22797160.0000\n"
     ]
    },
    {
     "data": {
      "image/png": "[encoded data removed]",
      "text/plain": [
       "<Figure size 432x288 with 1 Axes>"
      ]
     },
     "metadata": {
      "needs_background": "light"
     },
     "output_type": "display_data"
    }
   ],
   "source": [
    "callbaсk = EarlyStopping(monitor='val_mae', patience=2)\n",
    "\n",
    "model = Sequential()\n",
    "\n",
    "model.add(LSTM(64, input_shape = (inputs.shape[1], inputs.shape[2]), return_sequences=\"True\"))\n",
    "model.add(LSTM(64, return_sequences=\"True\")) # <None, 3,32>\n",
    "model.add(Conv1D(64, 3, activation=\"linear\")) #(None,3,64)\n",
    "#model.add(Conv1D(64, 1, activation=\"linear\"))\n",
    "model.add(Flatten())                          # (None, 3*64)\n",
    "model.add(Dense(3, activation=\"linear\"))      # (None,3)\n",
    "\n",
    "model.add(Dense(1, activation=\"linear\"))\n",
    "\n",
    "model.compile(loss=\"mse\", optimizer=\"adam\", metrics=['mae'])\n",
    "\n",
    "history = model.fit(\n",
    "    dataset_train,\n",
    "    epochs=epochs,\n",
    "    validation_data=dataset_val,\n",
    "    callbacks=[callbaсk, tensorboard_callback])\n",
    "\n",
    "\n",
    "plt.plot(history.history['mae'][1:], \n",
    "         label='Средняя абсолютная ошибка на обучающем наборе')\n",
    "plt.plot(history.history['val_mae'][1:], \n",
    "         label='Средняя абсолютная ошибка на проверочном наборе')\n",
    "plt.ylabel('Средняя ошибка')\n",
    "plt.legend()\n",
    "plt.show()"
   ]
  },
  {
   "cell_type": "code",
   "execution_count": null,
   "metadata": {},
   "outputs": [],
   "source": []
  }
 ],
 "metadata": {
  "kernelspec": {
   "display_name": "Python 3",
   "language": "python",
   "name": "python3"
  },
  "language_info": {
   "codemirror_mode": {
    "name": "ipython",
    "version": 3
   },
   "file_extension": ".py",
   "mimetype": "text/x-python",
   "name": "python",
   "nbconvert_exporter": "python",
   "pygments_lexer": "ipython3",
   "version": "3.8.5"
  }
 },
 "nbformat": 4,
 "nbformat_minor": 4
}
